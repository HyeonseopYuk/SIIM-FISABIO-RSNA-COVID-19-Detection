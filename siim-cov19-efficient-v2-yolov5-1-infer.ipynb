{
 "cells": [
  {
   "cell_type": "code",
   "execution_count": 1,
   "id": "instrumental-cable",
   "metadata": {
    "_kg_hide-input": true,
    "_kg_hide-output": true,
    "execution": {
     "iopub.execute_input": "2021-08-11T03:07:25.337588Z",
     "iopub.status.busy": "2021-08-11T03:07:25.335989Z",
     "iopub.status.idle": "2021-08-11T03:08:40.895257Z",
     "shell.execute_reply": "2021-08-11T03:08:40.895740Z",
     "shell.execute_reply.started": "2021-08-11T02:26:08.620066Z"
    },
    "papermill": {
     "duration": 75.60417,
     "end_time": "2021-08-11T03:08:40.896113",
     "exception": false,
     "start_time": "2021-08-11T03:07:25.291943",
     "status": "completed"
    },
    "tags": []
   },
   "outputs": [
    {
     "name": "stdout",
     "output_type": "stream",
     "text": [
      "\r\n",
      "Downloading and Extracting Packages\r\n",
      "######################################################################## | 100% \r\n",
      "Preparing transaction: - \b\bdone\r\n",
      "Verifying transaction: | \b\bdone\r\n",
      "Executing transaction: - \b\b\\ \b\bdone\r\n",
      "\r\n",
      "Downloading and Extracting Packages\r\n",
      "######################################################################## | 100% \r\n",
      "Preparing transaction: - \b\bdone\r\n",
      "Verifying transaction: | \b\bdone\r\n",
      "Executing transaction: - \b\b\\ \b\b| \b\b/ \b\bdone\r\n",
      "\r\n",
      "Downloading and Extracting Packages\r\n",
      "######################################################################## | 100% \r\n",
      "Preparing transaction: - \b\bdone\r\n",
      "Verifying transaction: | \b\bdone\r\n",
      "Executing transaction: - \b\bdone\r\n",
      "\r\n",
      "Downloading and Extracting Packages\r\n",
      "######################################################################## | 100% \r\n",
      "Preparing transaction: - \b\bdone\r\n",
      "Verifying transaction: | \b\bdone\r\n",
      "Executing transaction: - \b\b\\ \b\b| \b\b/ \b\b- \b\b\\ \b\b| \b\b/ \b\b- \b\b\\ \b\b| \b\b/ \b\b- \b\b\\ \b\b| \b\b/ \b\b- \b\b\\ \b\b| \b\b/ \b\b- \b\b\\ \b\b| \b\bdone\r\n",
      "\r\n",
      "Downloading and Extracting Packages\r\n",
      "######################################################################## | 100% \r\n",
      "Preparing transaction: - \b\bdone\r\n",
      "Verifying transaction: | \b\bdone\r\n",
      "Executing transaction: - \b\b\\ \b\bdone\r\n",
      "\r\n",
      "Downloading and Extracting Packages\r\n",
      "######################################################################## | 100% \r\n",
      "Preparing transaction: - \b\bdone\r\n",
      "Verifying transaction: | \b\bdone\r\n",
      "Executing transaction: - \b\b\\ \b\b| \b\b/ \b\b- \b\b\\ \b\b| \b\b/ \b\bdone\r\n"
     ]
    }
   ],
   "source": [
    "!conda install '/kaggle/input/pydicom-conda-helper/libjpeg-turbo-2.1.0-h7f98852_0.tar.bz2' -c conda-forge -y\n",
    "!conda install '/kaggle/input/pydicom-conda-helper/libgcc-ng-9.3.0-h2828fa1_19.tar.bz2' -c conda-forge -y\n",
    "!conda install '/kaggle/input/pydicom-conda-helper/gdcm-2.8.9-py37h500ead1_1.tar.bz2' -c conda-forge -y\n",
    "!conda install '/kaggle/input/pydicom-conda-helper/conda-4.10.1-py37h89c1867_0.tar.bz2' -c conda-forge -y\n",
    "!conda install '/kaggle/input/pydicom-conda-helper/certifi-2020.12.5-py37h89c1867_1.tar.bz2' -c conda-forge -y\n",
    "!conda install '/kaggle/input/pydicom-conda-helper/openssl-1.1.1k-h7f98852_0.tar.bz2' -c conda-forge -y"
   ]
  },
  {
   "cell_type": "code",
   "execution_count": 2,
   "id": "detected-scanner",
   "metadata": {
    "execution": {
     "iopub.execute_input": "2021-08-11T03:08:40.996241Z",
     "iopub.status.busy": "2021-08-11T03:08:40.995527Z",
     "iopub.status.idle": "2021-08-11T03:08:41.005128Z",
     "shell.execute_reply": "2021-08-11T03:08:41.004550Z",
     "shell.execute_reply.started": "2021-08-11T02:27:18.972257Z"
    },
    "papermill": {
     "duration": 0.06318,
     "end_time": "2021-08-11T03:08:41.005301",
     "exception": false,
     "start_time": "2021-08-11T03:08:40.942121",
     "status": "completed"
    },
    "tags": []
   },
   "outputs": [],
   "source": [
    "import sys\n",
    "import os\n",
    "from PIL import Image\n",
    "import pandas as pd\n",
    "from tqdm.auto import tqdm\n",
    "import gc\n",
    "import glob\n",
    "import numpy as np"
   ]
  },
  {
   "cell_type": "code",
   "execution_count": 3,
   "id": "double-colombia",
   "metadata": {
    "execution": {
     "iopub.execute_input": "2021-08-11T03:08:41.110125Z",
     "iopub.status.busy": "2021-08-11T03:08:41.109439Z",
     "iopub.status.idle": "2021-08-11T03:08:47.704331Z",
     "shell.execute_reply": "2021-08-11T03:08:47.703657Z",
     "shell.execute_reply.started": "2021-08-11T02:27:18.988586Z"
    },
    "papermill": {
     "duration": 6.653616,
     "end_time": "2021-08-11T03:08:47.704482",
     "exception": false,
     "start_time": "2021-08-11T03:08:41.050866",
     "status": "completed"
    },
    "tags": []
   },
   "outputs": [],
   "source": [
    "sub_df = pd.read_csv('/kaggle/input/siim-covid19-detection/sample_submission.csv')\n",
    "\n",
    "# Form study and image dataframes\n",
    "sub_df['level'] = sub_df.id.map(lambda idx: idx[-5:])\n",
    "study_df = sub_df[sub_df.level=='study'].rename({'id':'study_id'}, axis=1)\n",
    "image_df = sub_df[sub_df.level=='image'].rename({'id':'image_id'}, axis=1)\n",
    "\n",
    "dcm_path = glob.glob('/kaggle/input/siim-covid19-detection/test/**/*dcm', recursive=True)\n",
    "test_meta = pd.DataFrame({'dcm_path':dcm_path})\n",
    "test_meta['image_id'] = test_meta.dcm_path.map(lambda x: x.split('/')[-1].replace('.dcm', '')+'_image')\n",
    "test_meta['study_id'] = test_meta.dcm_path.map(lambda x: x.split('/')[-3].replace('.dcm', '')+'_study')\n",
    "\n",
    "study_df = study_df.merge(test_meta, on='study_id', how='left')\n",
    "image_df = image_df.merge(test_meta, on='image_id', how='left')\n",
    "\n",
    "# Remove duplicates study_ids from study_df\n",
    "study_df.drop_duplicates(subset=\"study_id\",keep='first', inplace=True)"
   ]
  },
  {
   "cell_type": "code",
   "execution_count": 4,
   "id": "eastern-constraint",
   "metadata": {
    "execution": {
     "iopub.execute_input": "2021-08-11T03:08:47.819503Z",
     "iopub.status.busy": "2021-08-11T03:08:47.818353Z",
     "iopub.status.idle": "2021-08-11T03:08:47.847271Z",
     "shell.execute_reply": "2021-08-11T03:08:47.846647Z",
     "shell.execute_reply.started": "2021-08-11T02:27:24.271322Z"
    },
    "papermill": {
     "duration": 0.093459,
     "end_time": "2021-08-11T03:08:47.847416",
     "exception": false,
     "start_time": "2021-08-11T03:08:47.753957",
     "status": "completed"
    },
    "tags": []
   },
   "outputs": [
    {
     "name": "stdout",
     "output_type": "stream",
     "text": [
      "\n",
      "study_df\n"
     ]
    },
    {
     "data": {
      "text/html": [
       "<div>\n",
       "<style scoped>\n",
       "    .dataframe tbody tr th:only-of-type {\n",
       "        vertical-align: middle;\n",
       "    }\n",
       "\n",
       "    .dataframe tbody tr th {\n",
       "        vertical-align: top;\n",
       "    }\n",
       "\n",
       "    .dataframe thead th {\n",
       "        text-align: right;\n",
       "    }\n",
       "</style>\n",
       "<table border=\"1\" class=\"dataframe\">\n",
       "  <thead>\n",
       "    <tr style=\"text-align: right;\">\n",
       "      <th></th>\n",
       "      <th>study_id</th>\n",
       "      <th>PredictionString</th>\n",
       "      <th>level</th>\n",
       "      <th>dcm_path</th>\n",
       "      <th>image_id</th>\n",
       "    </tr>\n",
       "  </thead>\n",
       "  <tbody>\n",
       "    <tr>\n",
       "      <th>1046</th>\n",
       "      <td>ce2d48a26e5e_study</td>\n",
       "      <td>negative 1 0 0 1 1</td>\n",
       "      <td>study</td>\n",
       "      <td>/kaggle/input/siim-covid19-detection/test/ce2d...</td>\n",
       "      <td>a1883aeaa8f0_image</td>\n",
       "    </tr>\n",
       "    <tr>\n",
       "      <th>68</th>\n",
       "      <td>0ec0901a5d45_study</td>\n",
       "      <td>negative 1 0 0 1 1</td>\n",
       "      <td>study</td>\n",
       "      <td>/kaggle/input/siim-covid19-detection/test/0ec0...</td>\n",
       "      <td>4d7b06512cc1_image</td>\n",
       "    </tr>\n",
       "  </tbody>\n",
       "</table>\n",
       "</div>"
      ],
      "text/plain": [
       "                study_id    PredictionString  level  \\\n",
       "1046  ce2d48a26e5e_study  negative 1 0 0 1 1  study   \n",
       "68    0ec0901a5d45_study  negative 1 0 0 1 1  study   \n",
       "\n",
       "                                               dcm_path            image_id  \n",
       "1046  /kaggle/input/siim-covid19-detection/test/ce2d...  a1883aeaa8f0_image  \n",
       "68    /kaggle/input/siim-covid19-detection/test/0ec0...  4d7b06512cc1_image  "
      ]
     },
     "metadata": {},
     "output_type": "display_data"
    },
    {
     "name": "stdout",
     "output_type": "stream",
     "text": [
      "\n",
      "image_df\n"
     ]
    },
    {
     "data": {
      "text/html": [
       "<div>\n",
       "<style scoped>\n",
       "    .dataframe tbody tr th:only-of-type {\n",
       "        vertical-align: middle;\n",
       "    }\n",
       "\n",
       "    .dataframe tbody tr th {\n",
       "        vertical-align: top;\n",
       "    }\n",
       "\n",
       "    .dataframe thead th {\n",
       "        text-align: right;\n",
       "    }\n",
       "</style>\n",
       "<table border=\"1\" class=\"dataframe\">\n",
       "  <thead>\n",
       "    <tr style=\"text-align: right;\">\n",
       "      <th></th>\n",
       "      <th>image_id</th>\n",
       "      <th>PredictionString</th>\n",
       "      <th>level</th>\n",
       "      <th>dcm_path</th>\n",
       "      <th>study_id</th>\n",
       "    </tr>\n",
       "  </thead>\n",
       "  <tbody>\n",
       "    <tr>\n",
       "      <th>351</th>\n",
       "      <td>2a2f54eb48df_image</td>\n",
       "      <td>none 1 0 0 1 1</td>\n",
       "      <td>image</td>\n",
       "      <td>/kaggle/input/siim-covid19-detection/test/def2...</td>\n",
       "      <td>def217a20092_study</td>\n",
       "    </tr>\n",
       "    <tr>\n",
       "      <th>1206</th>\n",
       "      <td>27d3da7a8e3d_image</td>\n",
       "      <td>none 1 0 0 1 1</td>\n",
       "      <td>image</td>\n",
       "      <td>/kaggle/input/siim-covid19-detection/test/e5eb...</td>\n",
       "      <td>e5eb6f1abf7f_study</td>\n",
       "    </tr>\n",
       "  </tbody>\n",
       "</table>\n",
       "</div>"
      ],
      "text/plain": [
       "                image_id PredictionString  level  \\\n",
       "351   2a2f54eb48df_image   none 1 0 0 1 1  image   \n",
       "1206  27d3da7a8e3d_image   none 1 0 0 1 1  image   \n",
       "\n",
       "                                               dcm_path            study_id  \n",
       "351   /kaggle/input/siim-covid19-detection/test/def2...  def217a20092_study  \n",
       "1206  /kaggle/input/siim-covid19-detection/test/e5eb...  e5eb6f1abf7f_study  "
      ]
     },
     "metadata": {},
     "output_type": "display_data"
    },
    {
     "name": "stdout",
     "output_type": "stream",
     "text": [
      "\n",
      "test_meta\n"
     ]
    },
    {
     "data": {
      "text/html": [
       "<div>\n",
       "<style scoped>\n",
       "    .dataframe tbody tr th:only-of-type {\n",
       "        vertical-align: middle;\n",
       "    }\n",
       "\n",
       "    .dataframe tbody tr th {\n",
       "        vertical-align: top;\n",
       "    }\n",
       "\n",
       "    .dataframe thead th {\n",
       "        text-align: right;\n",
       "    }\n",
       "</style>\n",
       "<table border=\"1\" class=\"dataframe\">\n",
       "  <thead>\n",
       "    <tr style=\"text-align: right;\">\n",
       "      <th></th>\n",
       "      <th>dcm_path</th>\n",
       "      <th>image_id</th>\n",
       "      <th>study_id</th>\n",
       "    </tr>\n",
       "  </thead>\n",
       "  <tbody>\n",
       "    <tr>\n",
       "      <th>0</th>\n",
       "      <td>/kaggle/input/siim-covid19-detection/test/2fb1...</td>\n",
       "      <td>a29c5a68b07b_image</td>\n",
       "      <td>2fb11712bc93_study</td>\n",
       "    </tr>\n",
       "    <tr>\n",
       "      <th>1</th>\n",
       "      <td>/kaggle/input/siim-covid19-detection/test/19c6...</td>\n",
       "      <td>9850b5470fd6_image</td>\n",
       "      <td>19c66935e737_study</td>\n",
       "    </tr>\n",
       "  </tbody>\n",
       "</table>\n",
       "</div>"
      ],
      "text/plain": [
       "                                            dcm_path            image_id  \\\n",
       "0  /kaggle/input/siim-covid19-detection/test/2fb1...  a29c5a68b07b_image   \n",
       "1  /kaggle/input/siim-covid19-detection/test/19c6...  9850b5470fd6_image   \n",
       "\n",
       "             study_id  \n",
       "0  2fb11712bc93_study  \n",
       "1  19c66935e737_study  "
      ]
     },
     "metadata": {},
     "output_type": "display_data"
    }
   ],
   "source": [
    "fast_sub = False\n",
    "\n",
    "if sub_df.shape[0] == 2477:\n",
    "    fast_sub = True\n",
    "    study_df = study_df.sample(2)\n",
    "    image_df = image_df.sample(2)\n",
    "    fast_df = image_df.copy()\n",
    "    \n",
    "    print(\"\\nstudy_df\")\n",
    "    display(study_df.head(2))\n",
    "    print(\"\\nimage_df\")\n",
    "    display(image_df.head(2))\n",
    "    print(\"\\ntest_meta\")\n",
    "    display(test_meta.head(2))"
   ]
  },
  {
   "cell_type": "code",
   "execution_count": 5,
   "id": "looking-evening",
   "metadata": {
    "execution": {
     "iopub.execute_input": "2021-08-11T03:08:47.966756Z",
     "iopub.status.busy": "2021-08-11T03:08:47.965706Z",
     "iopub.status.idle": "2021-08-11T03:08:51.120164Z",
     "shell.execute_reply": "2021-08-11T03:08:51.120618Z",
     "shell.execute_reply.started": "2021-08-11T02:27:24.309131Z"
    },
    "papermill": {
     "duration": 3.222724,
     "end_time": "2021-08-11T03:08:51.120796",
     "exception": false,
     "start_time": "2021-08-11T03:08:47.898072",
     "status": "completed"
    },
    "tags": []
   },
   "outputs": [
    {
     "data": {
      "application/vnd.jupyter.widget-view+json": {
       "model_id": "47be2078f052409d88dd0f9929911a60",
       "version_major": 2,
       "version_minor": 0
      },
      "text/plain": [
       "  0%|          | 0/2 [00:00<?, ?it/s]"
      ]
     },
     "metadata": {},
     "output_type": "display_data"
    },
    {
     "data": {
      "application/vnd.jupyter.widget-view+json": {
       "model_id": "b99766bcd0c1485a9bbe70f8c4dda637",
       "version_major": 2,
       "version_minor": 0
      },
      "text/plain": [
       "  0%|          | 0/2 [00:00<?, ?it/s]"
      ]
     },
     "metadata": {},
     "output_type": "display_data"
    }
   ],
   "source": [
    "import pydicom\n",
    "from pydicom.pixel_data_handlers.util import apply_voi_lut\n",
    "\n",
    "STUDY_DIMS = (768, 768)\n",
    "IMAGE_DIMS = (768, 768)\n",
    "\n",
    "study_dir = f'/kaggle/tmp/test/study/'\n",
    "os.makedirs(study_dir, exist_ok=True)\n",
    "\n",
    "image_dir = f'/kaggle/tmp/test/image_2class/'\n",
    "os.makedirs(image_dir, exist_ok=True)\n",
    "\n",
    "def read_xray(path, voi_lut = True, fix_monochrome = True):\n",
    "    # Original from: https://www.kaggle.com/raddar/convert-dicom-to-np-array-the-correct-way\n",
    "    dicom = pydicom.read_file(path)\n",
    "    \n",
    "    # VOI LUT (if available by DICOM device) is used to transform raw DICOM data to \n",
    "    # \"human-friendly\" view\n",
    "    if voi_lut:\n",
    "        data = apply_voi_lut(dicom.pixel_array, dicom)\n",
    "    else:\n",
    "        data = dicom.pixel_array\n",
    "               \n",
    "    # depending on this value, X-ray may look inverted - fix that:\n",
    "    if fix_monochrome and dicom.PhotometricInterpretation == \"MONOCHROME1\":\n",
    "        data = np.amax(data) - data\n",
    "        \n",
    "    data = data - np.min(data)\n",
    "    data = data / np.max(data)\n",
    "    data = (data * 255).astype(np.uint8)\n",
    "    return data\n",
    "\n",
    "def resize(array, size, keep_ratio=False, resample=Image.LANCZOS):\n",
    "    # Original from: https://www.kaggle.com/xhlulu/vinbigdata-process-and-resize-to-image\n",
    "    im = Image.fromarray(array)\n",
    "    \n",
    "    if keep_ratio:\n",
    "        im.thumbnail((size, size), resample)\n",
    "    else:\n",
    "        im = im.resize((size, size), resample)\n",
    "    return im\n",
    "\n",
    "for index, row in tqdm(study_df[['study_id', 'dcm_path']].iterrows(), total=study_df.shape[0]):\n",
    "    # set keep_ratio=True to have original aspect ratio\n",
    "    xray = read_xray(row['dcm_path'])\n",
    "    im = resize(xray, size=STUDY_DIMS[0])\n",
    "    im.save(os.path.join(study_dir, row['study_id']+'.png'))\n",
    "\n",
    "image_df['dim0'] = -1\n",
    "image_df['dim1'] = -1\n",
    "\n",
    "for index, row in tqdm(image_df[['image_id', 'dcm_path', 'dim0', 'dim1']].iterrows(), total=image_df.shape[0]):\n",
    "    # set keep_ratio=True to have original aspect ratio\n",
    "    xray = read_xray(row['dcm_path'])\n",
    "    im = resize(xray, size=IMAGE_DIMS[0])  \n",
    "    im.save(os.path.join(image_dir, row['image_id']+'.png'))\n",
    "    image_df.loc[image_df.image_id==row.image_id, 'dim0'] = xray.shape[0]\n",
    "    image_df.loc[image_df.image_id==row.image_id, 'dim1'] = xray.shape[1]"
   ]
  },
  {
   "cell_type": "code",
   "execution_count": 6,
   "id": "cardiovascular-privilege",
   "metadata": {
    "execution": {
     "iopub.execute_input": "2021-08-11T03:08:51.227902Z",
     "iopub.status.busy": "2021-08-11T03:08:51.227276Z",
     "iopub.status.idle": "2021-08-11T03:08:51.246567Z",
     "shell.execute_reply": "2021-08-11T03:08:51.245943Z",
     "shell.execute_reply.started": "2021-08-11T02:27:28.116836Z"
    },
    "papermill": {
     "duration": 0.07441,
     "end_time": "2021-08-11T03:08:51.246711",
     "exception": false,
     "start_time": "2021-08-11T03:08:51.172301",
     "status": "completed"
    },
    "tags": []
   },
   "outputs": [],
   "source": [
    "study_df['image_path'] = study_dir+study_df['study_id']+'.png'\n",
    "image_df['image_path'] = image_dir+image_df['image_id']+'.png'"
   ]
  },
  {
   "cell_type": "code",
   "execution_count": 7,
   "id": "ruled-fence",
   "metadata": {
    "execution": {
     "iopub.execute_input": "2021-08-11T03:08:51.353033Z",
     "iopub.status.busy": "2021-08-11T03:08:51.352018Z",
     "iopub.status.idle": "2021-08-11T03:08:56.465940Z",
     "shell.execute_reply": "2021-08-11T03:08:56.465382Z",
     "shell.execute_reply.started": "2021-08-11T02:27:28.138677Z"
    },
    "papermill": {
     "duration": 5.170585,
     "end_time": "2021-08-11T03:08:56.466114",
     "exception": false,
     "start_time": "2021-08-11T03:08:51.295529",
     "status": "completed"
    },
    "tags": []
   },
   "outputs": [],
   "source": [
    "import tensorflow as tf\n",
    "import tensorflow_hub as tfhub\n",
    "\n",
    "MODEL_ARCH = 'efficientnetv2-l-21k-ft1k'\n",
    "# Get the TensorFlow Hub model URL\n",
    "hub_type = 'feature_vector' # ['classification', 'feature_vector']\n",
    "MODEL_ARCH_PATH = f'/kaggle/input/efficientnetv2-tfhub-weight-files/tfhub_models/{MODEL_ARCH}/{hub_type}'\n",
    "\n",
    "# Custom wrapper class to load the right pretrained weights explicitly from the local directory\n",
    "class KerasLayerWrapper(tfhub.KerasLayer):\n",
    "    def __init__(self, handle, **kwargs):\n",
    "        handle = tfhub.KerasLayer(tfhub.load(MODEL_ARCH_PATH))\n",
    "        super().__init__(handle, **kwargs)"
   ]
  },
  {
   "cell_type": "markdown",
   "id": "infectious-adrian",
   "metadata": {
    "papermill": {
     "duration": 0.051558,
     "end_time": "2021-08-11T03:08:56.566253",
     "exception": false,
     "start_time": "2021-08-11T03:08:56.514695",
     "status": "completed"
    },
    "tags": []
   },
   "source": [
    "# study predict"
   ]
  },
  {
   "cell_type": "code",
   "execution_count": 8,
   "id": "basic-addiction",
   "metadata": {
    "execution": {
     "iopub.execute_input": "2021-08-11T03:08:56.696111Z",
     "iopub.status.busy": "2021-08-11T03:08:56.694904Z",
     "iopub.status.idle": "2021-08-11T03:13:08.759211Z",
     "shell.execute_reply": "2021-08-11T03:13:08.759667Z",
     "shell.execute_reply.started": "2021-08-11T02:41:45.330934Z"
    },
    "papermill": {
     "duration": 252.144937,
     "end_time": "2021-08-11T03:13:08.759846",
     "exception": false,
     "start_time": "2021-08-11T03:08:56.614909",
     "status": "completed"
    },
    "tags": []
   },
   "outputs": [
    {
     "name": "stdout",
     "output_type": "stream",
     "text": [
      "1/1 [==============================] - 9s 9s/step\n",
      "1/1 [==============================] - 5s 5s/step\n",
      "1/1 [==============================] - 5s 5s/step\n",
      "1/1 [==============================] - 5s 5s/step\n",
      "1/1 [==============================] - 5s 5s/step\n"
     ]
    },
    {
     "data": {
      "text/plain": [
       "4747974"
      ]
     },
     "execution_count": 8,
     "metadata": {},
     "output_type": "execute_result"
    }
   ],
   "source": [
    "MODEL_PATH = '/kaggle/input/siim-effnetv2-keras-study-train-tpu-cv0-805'\n",
    "test_paths = study_df.image_path.tolist()\n",
    "BATCH_SIZE = 16\n",
    "\n",
    "def build_decoder(with_labels=True, target_size=(300, 300), ext='jpg'):\n",
    "    def decode(path):\n",
    "        file_bytes = tf.io.read_file(path)\n",
    "        if ext == 'png':\n",
    "            img = tf.image.decode_png(file_bytes, channels=3)\n",
    "        elif ext in ['jpg', 'jpeg']:\n",
    "            img = tf.image.decode_jpeg(file_bytes, channels=3)\n",
    "        else:\n",
    "            raise ValueError(\"Image extension not supported\")\n",
    "\n",
    "        img = tf.cast(img, tf.float32) / 255.0\n",
    "        img = tf.image.resize(img, target_size)\n",
    "\n",
    "        return img\n",
    "\n",
    "    def decode_with_labels(path, label):\n",
    "        return decode(path), label\n",
    "\n",
    "    return decode_with_labels if with_labels else decode\n",
    "\n",
    "def build_augmenter(with_labels=True):\n",
    "    def augment(img):\n",
    "        img = tf.image.random_flip_left_right(img)\n",
    "        img = tf.image.random_flip_up_down(img)\n",
    "        return img\n",
    "\n",
    "    def augment_with_labels(img, label):\n",
    "        return augment(img), label\n",
    "\n",
    "    return augment_with_labels if with_labels else augment\n",
    "\n",
    "def build_dataset(paths, labels=None, bsize=32, cache=True,\n",
    "                  decode_fn=None, augment_fn=None,\n",
    "                  augment=True, repeat=True, shuffle=1024, \n",
    "                  cache_dir=\"\"):\n",
    "    if cache_dir != \"\" and cache is True:\n",
    "        os.makedirs(cache_dir, exist_ok=True)\n",
    "\n",
    "    if decode_fn is None:\n",
    "        decode_fn = build_decoder(labels is not None)\n",
    "\n",
    "    if augment_fn is None:\n",
    "        augment_fn = build_augmenter(labels is not None)\n",
    "\n",
    "    AUTO = tf.data.experimental.AUTOTUNE\n",
    "    slices = paths if labels is None else (paths, labels)\n",
    "\n",
    "    dset = tf.data.Dataset.from_tensor_slices(slices)\n",
    "    dset = dset.map(decode_fn, num_parallel_calls=AUTO)\n",
    "    dset = dset.cache(cache_dir) if cache else dset\n",
    "    dset = dset.map(augment_fn, num_parallel_calls=AUTO) if augment else dset\n",
    "    dset = dset.repeat() if repeat else dset\n",
    "    dset = dset.shuffle(shuffle) if shuffle else dset\n",
    "    dset = dset.batch(bsize).prefetch(AUTO)\n",
    "\n",
    "    return dset\n",
    "\n",
    "# strategy = auto_select_accelerator()\n",
    "# BATCH_SIZE = strategy.num_replicas_in_sync * 16\n",
    "\n",
    "label_cols = ['negative', 'typical', 'indeterminate', 'atypical']\n",
    "study_df[label_cols] = 0\n",
    "\n",
    "test_decoder = build_decoder(with_labels=False,\n",
    "                             target_size=(STUDY_DIMS[0],\n",
    "                                          STUDY_DIMS[0]), ext='png')\n",
    "test_dataset = build_dataset(\n",
    "    test_paths, bsize=BATCH_SIZE, repeat=False, \n",
    "    shuffle=False, augment=False, cache=False,\n",
    "    decode_fn=test_decoder\n",
    ")\n",
    "\n",
    "with tf.device('/device:GPU:0'):\n",
    "    models = []\n",
    "    models0 = tf.keras.models.load_model(f'{MODEL_PATH}/model0.h5',\n",
    "                                         custom_objects={'KerasLayer': KerasLayerWrapper})\n",
    "    models1 = tf.keras.models.load_model(f'{MODEL_PATH}/model1.h5',\n",
    "                                         custom_objects={'KerasLayer': KerasLayerWrapper})\n",
    "    models2 = tf.keras.models.load_model(f'{MODEL_PATH}/model2.h5',\n",
    "                                         custom_objects={'KerasLayer': KerasLayerWrapper})\n",
    "    models3 = tf.keras.models.load_model(f'{MODEL_PATH}/model3.h5',\n",
    "                                         custom_objects={'KerasLayer': KerasLayerWrapper})\n",
    "    models4 = tf.keras.models.load_model(f'{MODEL_PATH}/model4.h5',\n",
    "                                         custom_objects={'KerasLayer': KerasLayerWrapper})\n",
    "    models.append(models0)\n",
    "    models.append(models1)\n",
    "    models.append(models2)\n",
    "    models.append(models3)\n",
    "    models.append(models4)\n",
    "\n",
    "study_df[label_cols] = sum([model.predict(test_dataset, verbose=1) for model in models]) / len(models)\n",
    "study_df['PredictionString'] = study_df[label_cols].apply(lambda row: f'negative {row.negative} 0 0 1 1 typical {row.typical} 0 0 1 1 indeterminate {row.indeterminate} 0 0 1 1 atypical {row.atypical} 0 0 1 1', axis=1)\n",
    "\n",
    "del models\n",
    "del models0, models1, models2, models3, models4\n",
    "del test_dataset, test_decoder\n",
    "gc.collect()"
   ]
  },
  {
   "cell_type": "code",
   "execution_count": 9,
   "id": "empty-night",
   "metadata": {
    "execution": {
     "iopub.execute_input": "2021-08-11T03:13:08.866197Z",
     "iopub.status.busy": "2021-08-11T03:13:08.865568Z",
     "iopub.status.idle": "2021-08-11T03:13:08.869884Z",
     "shell.execute_reply": "2021-08-11T03:13:08.869462Z",
     "shell.execute_reply.started": "2021-08-11T02:38:05.772266Z"
    },
    "papermill": {
     "duration": 0.05981,
     "end_time": "2021-08-11T03:13:08.870001",
     "exception": false,
     "start_time": "2021-08-11T03:13:08.810191",
     "status": "completed"
    },
    "tags": []
   },
   "outputs": [],
   "source": [
    "# # MODEL_PATH = '/kaggle/input/siimeffnetv2kerasstudy-train'\n",
    "# MODEL_PATH = 'kaggle/input/siim-effnetv2-keras-study-train-tpu-cv0-805'\n",
    "# test_paths = study_df.image_path.tolist()\n",
    "# BATCH_SIZE = 16\n",
    "\n",
    "# def build_decoder(with_labels=True, target_size=(300, 300), ext='jpg'):\n",
    "#     def decode(path):\n",
    "#         file_bytes = tf.io.read_file(path)\n",
    "#         if ext == 'png':\n",
    "#             img = tf.image.decode_png(file_bytes, channels=3)\n",
    "#         elif ext in ['jpg', 'jpeg']:\n",
    "#             img = tf.image.decode_jpeg(file_bytes, channels=3)\n",
    "#         else:\n",
    "#             raise ValueError(\"Image extension not supported\")\n",
    "\n",
    "#         img = tf.cast(img, tf.float32) / 255.0\n",
    "#         img = tf.image.resize(img, target_size)\n",
    "\n",
    "#         return img\n",
    "\n",
    "#     def decode_with_labels(path, label):\n",
    "#         return decode(path), label\n",
    "\n",
    "#     return decode_with_labels if with_labels else decode\n",
    "\n",
    "# def build_augmenter(with_labels=True):\n",
    "#     def augment(img):\n",
    "#         img = tf.image.random_flip_left_right(img)\n",
    "#         img = tf.image.random_flip_up_down(img)\n",
    "#         return img\n",
    "\n",
    "#     def augment_with_labels(img, label):\n",
    "#         return augment(img), label\n",
    "\n",
    "#     return augment_with_labels if with_labels else augment\n",
    "\n",
    "# def build_dataset(paths, labels=None, bsize=32, cache=True,\n",
    "#                   decode_fn=None, augment_fn=None,\n",
    "#                   augment=True, repeat=True, shuffle=1024, \n",
    "#                   cache_dir=\"\"):\n",
    "#     if cache_dir != \"\" and cache is True:\n",
    "#         os.makedirs(cache_dir, exist_ok=True)\n",
    "\n",
    "#     if decode_fn is None:\n",
    "#         decode_fn = build_decoder(labels is not None)\n",
    "\n",
    "#     if augment_fn is None:\n",
    "#         augment_fn = build_augmenter(labels is not None)\n",
    "\n",
    "#     AUTO = tf.data.experimental.AUTOTUNE\n",
    "#     slices = paths if labels is None else (paths, labels)\n",
    "\n",
    "#     dset = tf.data.Dataset.from_tensor_slices(slices)\n",
    "#     dset = dset.map(decode_fn, num_parallel_calls=AUTO)\n",
    "#     dset = dset.cache(cache_dir) if cache else dset\n",
    "#     dset = dset.map(augment_fn, num_parallel_calls=AUTO) if augment else dset\n",
    "#     dset = dset.repeat() if repeat else dset\n",
    "#     dset = dset.shuffle(shuffle) if shuffle else dset\n",
    "#     dset = dset.batch(bsize).prefetch(AUTO)\n",
    "\n",
    "#     return dset\n",
    "\n",
    "# # strategy = auto_select_accelerator()\n",
    "# # BATCH_SIZE = strategy.num_replicas_in_sync * 16\n",
    "\n",
    "# label_cols = ['negative', 'typical', 'indeterminate', 'atypical']\n",
    "# study_df[label_cols] = 0\n",
    "\n",
    "# test_decoder = build_decoder(with_labels=False,\n",
    "#                              target_size=(STUDY_DIMS[0],\n",
    "#                                           STUDY_DIMS[0]), ext='png')\n",
    "# test_dataset = build_dataset(\n",
    "#     test_paths, bsize=BATCH_SIZE, repeat=False, \n",
    "#     shuffle=False, augment=False, cache=False,\n",
    "#     decode_fn=test_decoder\n",
    "# )\n",
    "\n",
    "# with tf.device('/device:GPU:0'):\n",
    "#     models = []\n",
    "#     models0 = tf.keras.models.load_model(f'{MODEL_PATH}/model0.h5',\n",
    "#                                          custom_objects={'KerasLayer': KerasLayerWrapper})\n",
    "#     models1 = tf.keras.models.load_model(f'{MODEL_PATH}/model1.h5',\n",
    "#                                          custom_objects={'KerasLayer': KerasLayerWrapper})\n",
    "#     models2 = tf.keras.models.load_model(f'{MODEL_PATH}/model2.h5',\n",
    "#                                          custom_objects={'KerasLayer': KerasLayerWrapper})\n",
    "#     models3 = tf.keras.models.load_model(f'{MODEL_PATH}/model3.h5',\n",
    "#                                          custom_objects={'KerasLayer': KerasLayerWrapper})\n",
    "#     models4 = tf.keras.models.load_model(f'{MODEL_PATH}/model4.h5',\n",
    "#                                          custom_objects={'KerasLayer': KerasLayerWrapper})\n",
    "#     models.append(models0)\n",
    "#     models.append(models1)\n",
    "#     models.append(models2)\n",
    "#     models.append(models3)\n",
    "#     models.append(models4)\n",
    "\n",
    "# study_df[label_cols] = sum([model.predict(test_dataset, verbose=1) for model in models]) / len(models)\n",
    "# study_df['PredictionString'] = study_df[label_cols].apply(lambda row: f'negative {row.negative} 0 0 1 1 typical {row.typical} 0 0 1 1 indeterminate {row.indeterminate} 0 0 1 1 atypical {row.atypical} 0 0 1 1', axis=1)\n",
    "\n",
    "# del models\n",
    "# del models0, models1, models2, models3, models4\n",
    "# del test_dataset, test_decoder\n",
    "# gc.collect()"
   ]
  },
  {
   "cell_type": "markdown",
   "id": "expensive-spell",
   "metadata": {
    "papermill": {
     "duration": 0.048868,
     "end_time": "2021-08-11T03:13:08.968076",
     "exception": false,
     "start_time": "2021-08-11T03:13:08.919208",
     "status": "completed"
    },
    "tags": []
   },
   "source": [
    "## 2CLASS Predict"
   ]
  },
  {
   "cell_type": "code",
   "execution_count": 10,
   "id": "interpreted-provider",
   "metadata": {
    "execution": {
     "iopub.execute_input": "2021-08-11T03:13:09.080851Z",
     "iopub.status.busy": "2021-08-11T03:13:09.079983Z",
     "iopub.status.idle": "2021-08-11T03:16:46.309973Z",
     "shell.execute_reply": "2021-08-11T03:16:46.310383Z",
     "shell.execute_reply.started": "2021-08-11T02:46:17.092834Z"
    },
    "papermill": {
     "duration": 217.293698,
     "end_time": "2021-08-11T03:16:46.310548",
     "exception": false,
     "start_time": "2021-08-11T03:13:09.016850",
     "status": "completed"
    },
    "tags": []
   },
   "outputs": [
    {
     "name": "stdout",
     "output_type": "stream",
     "text": [
      "1/1 [==============================] - 4s 4s/step\n",
      "1/1 [==============================] - 4s 4s/step\n",
      "1/1 [==============================] - 4s 4s/step\n",
      "1/1 [==============================] - 3s 3s/step\n",
      "1/1 [==============================] - 3s 3s/step\n"
     ]
    },
    {
     "data": {
      "text/plain": [
       "4748081"
      ]
     },
     "execution_count": 10,
     "metadata": {},
     "output_type": "execute_result"
    }
   ],
   "source": [
    "MODEL_PATH = '/kaggle/input/d/hyeonseop/siimeffnetv2keras2classtrain'\n",
    "\n",
    "test_paths = image_df.image_path.tolist()\n",
    "image_df['none'] = 0\n",
    "label_cols = ['none']\n",
    "\n",
    "test_decoder = build_decoder(with_labels=False,\n",
    "                             target_size=(IMAGE_DIMS[0],\n",
    "                                          IMAGE_DIMS[0]), ext='png')\n",
    "test_dataset = build_dataset(\n",
    "    test_paths, bsize=BATCH_SIZE, repeat=False, \n",
    "    shuffle=False, augment=False, cache=False,\n",
    "    decode_fn=test_decoder\n",
    ")\n",
    "\n",
    "with tf.device('/device:GPU:0'):\n",
    "    models = []\n",
    "    models0 = tf.keras.models.load_model(f'{MODEL_PATH}/model0.h5',\n",
    "                                         custom_objects={'KerasLayer': KerasLayerWrapper})\n",
    "    models1 = tf.keras.models.load_model(f'{MODEL_PATH}/model1.h5',\n",
    "                                         custom_objects={'KerasLayer': KerasLayerWrapper})\n",
    "    models2 = tf.keras.models.load_model(f'{MODEL_PATH}/model2.h5',\n",
    "                                         custom_objects={'KerasLayer': KerasLayerWrapper})\n",
    "    models3 = tf.keras.models.load_model(f'{MODEL_PATH}/model3.h5',\n",
    "                                         custom_objects={'KerasLayer': KerasLayerWrapper})\n",
    "    models4 = tf.keras.models.load_model(f'{MODEL_PATH}/model4.h5',\n",
    "                                         custom_objects={'KerasLayer': KerasLayerWrapper})\n",
    "    models.append(models0)\n",
    "    models.append(models1)\n",
    "    models.append(models2)\n",
    "    models.append(models3)\n",
    "    models.append(models4)\n",
    "\n",
    "# image_df[label_cols] = np.argmax(sum([model.predict(test_dataset, verbose=1) for model in models]) / len(models) ,axis=1)\n",
    "pred_2cls = sum([model.predict(test_dataset, verbose=1) for model in models]) / len(models)\n",
    "image_df[label_cols] = np.max(pred_2cls , axis=1)\n",
    "\n",
    "del models\n",
    "del models0, models1, models2, models3, models4\n",
    "del test_dataset, test_decoder\n",
    "gc.collect()\n",
    "\n",
    "#opacity: 0, none: 1"
   ]
  },
  {
   "cell_type": "markdown",
   "id": "occupational-heading",
   "metadata": {
    "papermill": {
     "duration": 0.049841,
     "end_time": "2021-08-11T03:16:46.409722",
     "exception": false,
     "start_time": "2021-08-11T03:16:46.359881",
     "status": "completed"
    },
    "tags": []
   },
   "source": [
    "## YOLO"
   ]
  },
  {
   "cell_type": "code",
   "execution_count": 11,
   "id": "surface-graphics",
   "metadata": {
    "_cell_guid": "b1076dfc-b9ad-4769-8c92-a6c4dae69d19",
    "_uuid": "8f2839f25d086af736a60e9eeb907d3b93b6e0e5",
    "execution": {
     "iopub.execute_input": "2021-08-11T03:16:46.528670Z",
     "iopub.status.busy": "2021-08-11T03:16:46.527960Z",
     "iopub.status.idle": "2021-08-11T03:16:46.530713Z",
     "shell.execute_reply": "2021-08-11T03:16:46.530323Z",
     "shell.execute_reply.started": "2021-08-11T02:49:59.266618Z"
    },
    "papermill": {
     "duration": 0.072065,
     "end_time": "2021-08-11T03:16:46.530819",
     "exception": false,
     "start_time": "2021-08-11T03:16:46.458754",
     "status": "completed"
    },
    "tags": []
   },
   "outputs": [],
   "source": [
    "import os\n",
    "\n",
    "from PIL import Image\n",
    "import pandas as pd\n",
    "from tqdm.auto import tqdm"
   ]
  },
  {
   "cell_type": "markdown",
   "id": "graduate-jaguar",
   "metadata": {
    "papermill": {
     "duration": 0.049178,
     "end_time": "2021-08-11T03:16:46.628692",
     "exception": false,
     "start_time": "2021-08-11T03:16:46.579514",
     "status": "completed"
    },
    "tags": []
   },
   "source": [
    "# .dcm to .png"
   ]
  },
  {
   "cell_type": "code",
   "execution_count": 12,
   "id": "blond-genius",
   "metadata": {
    "execution": {
     "iopub.execute_input": "2021-08-11T03:16:46.742485Z",
     "iopub.status.busy": "2021-08-11T03:16:46.741546Z",
     "iopub.status.idle": "2021-08-11T03:16:46.745454Z",
     "shell.execute_reply": "2021-08-11T03:16:46.745003Z",
     "shell.execute_reply.started": "2021-08-11T02:49:59.291005Z"
    },
    "papermill": {
     "duration": 0.065879,
     "end_time": "2021-08-11T03:16:46.745562",
     "exception": false,
     "start_time": "2021-08-11T03:16:46.679683",
     "status": "completed"
    },
    "tags": []
   },
   "outputs": [
    {
     "data": {
      "text/html": [
       "<div>\n",
       "<style scoped>\n",
       "    .dataframe tbody tr th:only-of-type {\n",
       "        vertical-align: middle;\n",
       "    }\n",
       "\n",
       "    .dataframe tbody tr th {\n",
       "        vertical-align: top;\n",
       "    }\n",
       "\n",
       "    .dataframe thead th {\n",
       "        text-align: right;\n",
       "    }\n",
       "</style>\n",
       "<table border=\"1\" class=\"dataframe\">\n",
       "  <thead>\n",
       "    <tr style=\"text-align: right;\">\n",
       "      <th></th>\n",
       "      <th>image_id</th>\n",
       "      <th>PredictionString</th>\n",
       "      <th>level</th>\n",
       "      <th>dcm_path</th>\n",
       "      <th>study_id</th>\n",
       "    </tr>\n",
       "  </thead>\n",
       "  <tbody>\n",
       "    <tr>\n",
       "      <th>0</th>\n",
       "      <td>2a2f54eb48df_image</td>\n",
       "      <td>none 1 0 0 1 1</td>\n",
       "      <td>image</td>\n",
       "      <td>/kaggle/input/siim-covid19-detection/test/def2...</td>\n",
       "      <td>def217a20092_study</td>\n",
       "    </tr>\n",
       "    <tr>\n",
       "      <th>1</th>\n",
       "      <td>27d3da7a8e3d_image</td>\n",
       "      <td>none 1 0 0 1 1</td>\n",
       "      <td>image</td>\n",
       "      <td>/kaggle/input/siim-covid19-detection/test/e5eb...</td>\n",
       "      <td>e5eb6f1abf7f_study</td>\n",
       "    </tr>\n",
       "  </tbody>\n",
       "</table>\n",
       "</div>"
      ],
      "text/plain": [
       "             image_id PredictionString  level  \\\n",
       "0  2a2f54eb48df_image   none 1 0 0 1 1  image   \n",
       "1  27d3da7a8e3d_image   none 1 0 0 1 1  image   \n",
       "\n",
       "                                            dcm_path            study_id  \n",
       "0  /kaggle/input/siim-covid19-detection/test/def2...  def217a20092_study  \n",
       "1  /kaggle/input/siim-covid19-detection/test/e5eb...  e5eb6f1abf7f_study  "
      ]
     },
     "execution_count": 12,
     "metadata": {},
     "output_type": "execute_result"
    }
   ],
   "source": [
    "if fast_sub:\n",
    "    test_df = fast_df.copy()\n",
    "#     test_df = test_df.iloc[:,:2]\n",
    "#     test_df.columns = ['id', 'PredictionString']\n",
    "else:\n",
    "#     test_df = pd.read_csv('/kaggle/input/siim-covid19-detection/sample_submission.csv')\n",
    "    test_df = image_df.copy()\n",
    "    \n",
    "test_df = test_df.reset_index(drop=True) \n",
    "test_df"
   ]
  },
  {
   "cell_type": "code",
   "execution_count": 13,
   "id": "expensive-factory",
   "metadata": {
    "execution": {
     "iopub.execute_input": "2021-08-11T03:16:46.854971Z",
     "iopub.status.busy": "2021-08-11T03:16:46.854151Z",
     "iopub.status.idle": "2021-08-11T03:16:46.857019Z",
     "shell.execute_reply": "2021-08-11T03:16:46.856571Z",
     "shell.execute_reply.started": "2021-08-11T02:49:59.307177Z"
    },
    "papermill": {
     "duration": 0.061024,
     "end_time": "2021-08-11T03:16:46.857156",
     "exception": false,
     "start_time": "2021-08-11T03:16:46.796132",
     "status": "completed"
    },
    "tags": []
   },
   "outputs": [],
   "source": [
    "import numpy as np\n",
    "import pydicom\n",
    "from pydicom.pixel_data_handlers.util import apply_voi_lut\n",
    "\n",
    "def read_xray(path, voi_lut = True, fix_monochrome = True):\n",
    "    # Original from: https://www.kaggle.com/raddar/convert-dicom-to-np-array-the-correct-way\n",
    "    dicom = pydicom.read_file(path)\n",
    "    \n",
    "    # VOI LUT (if available by DICOM device) is used to transform raw DICOM data to \n",
    "    # \"human-friendly\" view\n",
    "    if voi_lut:\n",
    "        data = apply_voi_lut(dicom.pixel_array, dicom)\n",
    "    else:\n",
    "        data = dicom.pixel_array\n",
    "               \n",
    "    # depending on this value, X-ray may look inverted - fix that:\n",
    "    if fix_monochrome and dicom.PhotometricInterpretation == \"MONOCHROME1\":\n",
    "        data = np.amax(data) - data\n",
    "        \n",
    "    data = data - np.min(data)\n",
    "    data = data / np.max(data)\n",
    "    data = (data * 255).astype(np.uint8)\n",
    "        \n",
    "    return data"
   ]
  },
  {
   "cell_type": "code",
   "execution_count": 14,
   "id": "macro-amazon",
   "metadata": {
    "execution": {
     "iopub.execute_input": "2021-08-11T03:16:46.966653Z",
     "iopub.status.busy": "2021-08-11T03:16:46.965865Z",
     "iopub.status.idle": "2021-08-11T03:16:46.968586Z",
     "shell.execute_reply": "2021-08-11T03:16:46.968115Z",
     "shell.execute_reply.started": "2021-08-11T02:49:59.318179Z"
    },
    "papermill": {
     "duration": 0.0601,
     "end_time": "2021-08-11T03:16:46.968693",
     "exception": false,
     "start_time": "2021-08-11T03:16:46.908593",
     "status": "completed"
    },
    "tags": []
   },
   "outputs": [],
   "source": [
    "def resize(array, size, keep_ratio=False, resample=Image.LANCZOS):\n",
    "    # Original from: https://www.kaggle.com/xhlulu/vinbigdata-process-and-resize-to-image\n",
    "    im = Image.fromarray(array)\n",
    "    \n",
    "    if keep_ratio:\n",
    "        im.thumbnail((size, size), resample)\n",
    "    else:\n",
    "        im = im.resize((size, size), resample)\n",
    "    \n",
    "    return im"
   ]
  },
  {
   "cell_type": "code",
   "execution_count": 15,
   "id": "political-internet",
   "metadata": {
    "execution": {
     "iopub.execute_input": "2021-08-11T03:16:47.082566Z",
     "iopub.status.busy": "2021-08-11T03:16:47.081556Z",
     "iopub.status.idle": "2021-08-11T03:16:47.084504Z",
     "shell.execute_reply": "2021-08-11T03:16:47.084021Z",
     "shell.execute_reply.started": "2021-08-11T02:49:59.327246Z"
    },
    "papermill": {
     "duration": 0.064634,
     "end_time": "2021-08-11T03:16:47.084625",
     "exception": false,
     "start_time": "2021-08-11T03:16:47.019991",
     "status": "completed"
    },
    "tags": []
   },
   "outputs": [],
   "source": [
    "# split = 'test'\n",
    "# save_dir = f'/kaggle/tmp/{split}/'\n",
    "\n",
    "# os.makedirs(save_dir, exist_ok=True)\n",
    "\n",
    "# save_dir = f'/kaggle/tmp/{split}/study/'\n",
    "# os.makedirs(save_dir, exist_ok=True)\n",
    "# if fast_sub:\n",
    "#     xray = read_xray('../input/siim-covid19-detection/train/00086460a852/9e8302230c91/65761e66de9f.dcm')\n",
    "#     im = resize(xray, size=600)  \n",
    "#     study = '00086460a852' + '_study.png'\n",
    "#     im.save(os.path.join(save_dir, study))\n",
    "#     xray = read_xray('../input/siim-covid19-detection/train/000c9c05fd14/e555410bd2cd/51759b5579bc.dcm')\n",
    "#     im = resize(xray, size=600)  \n",
    "#     study = '000c9c05fd14' + '_study.png'\n",
    "#     im.save(os.path.join(save_dir, study))\n",
    "# else:   \n",
    "#     for dirname, _, filenames in tqdm(os.walk(f'../input/siim-covid19-detection/{split}')):\n",
    "#         for file in filenames:\n",
    "#             # set keep_ratio=True to have original aspect ratio\n",
    "#             xray = read_xray(os.path.join(dirname, file))\n",
    "#             im = resize(xray, size=600)  \n",
    "#             study = dirname.split('/')[-2] + '_study.png'\n",
    "#             im.save(os.path.join(save_dir, study))"
   ]
  },
  {
   "cell_type": "code",
   "execution_count": 16,
   "id": "dominican-watts",
   "metadata": {
    "execution": {
     "iopub.execute_input": "2021-08-11T03:16:47.200407Z",
     "iopub.status.busy": "2021-08-11T03:16:47.199617Z",
     "iopub.status.idle": "2021-08-11T03:16:47.202506Z",
     "shell.execute_reply": "2021-08-11T03:16:47.202016Z",
     "shell.execute_reply.started": "2021-08-11T02:49:59.337333Z"
    },
    "papermill": {
     "duration": 0.062015,
     "end_time": "2021-08-11T03:16:47.202628",
     "exception": false,
     "start_time": "2021-08-11T03:16:47.140613",
     "status": "completed"
    },
    "tags": []
   },
   "outputs": [],
   "source": [
    "# import shutil\n",
    "\n",
    "# shutil.rmtree('/kaggle/tmp/test/image_detect')\n",
    "# shutil.rmtree('runs/detect/exp/labels')"
   ]
  },
  {
   "cell_type": "code",
   "execution_count": 17,
   "id": "environmental-embassy",
   "metadata": {
    "execution": {
     "iopub.execute_input": "2021-08-11T03:16:47.312770Z",
     "iopub.status.busy": "2021-08-11T03:16:47.312002Z",
     "iopub.status.idle": "2021-08-11T03:16:47.314899Z",
     "shell.execute_reply": "2021-08-11T03:16:47.314438Z"
    },
    "papermill": {
     "duration": 0.057802,
     "end_time": "2021-08-11T03:16:47.314997",
     "exception": false,
     "start_time": "2021-08-11T03:16:47.257195",
     "status": "completed"
    },
    "tags": []
   },
   "outputs": [],
   "source": [
    "# os.mkdir('runs/detect/exp/labels')"
   ]
  },
  {
   "cell_type": "code",
   "execution_count": null,
   "id": "dominant-confirmation",
   "metadata": {
    "papermill": {
     "duration": 0.049853,
     "end_time": "2021-08-11T03:16:47.416079",
     "exception": false,
     "start_time": "2021-08-11T03:16:47.366226",
     "status": "completed"
    },
    "tags": []
   },
   "outputs": [],
   "source": []
  },
  {
   "cell_type": "code",
   "execution_count": 18,
   "id": "saving-leader",
   "metadata": {
    "execution": {
     "iopub.execute_input": "2021-08-11T03:16:47.525433Z",
     "iopub.status.busy": "2021-08-11T03:16:47.524616Z",
     "iopub.status.idle": "2021-08-11T03:16:48.763436Z",
     "shell.execute_reply": "2021-08-11T03:16:48.762905Z",
     "shell.execute_reply.started": "2021-08-11T02:49:59.34985Z"
    },
    "papermill": {
     "duration": 1.29721,
     "end_time": "2021-08-11T03:16:48.763576",
     "exception": false,
     "start_time": "2021-08-11T03:16:47.466366",
     "status": "completed"
    },
    "tags": []
   },
   "outputs": [
    {
     "data": {
      "application/vnd.jupyter.widget-view+json": {
       "model_id": "40a6aab8cde2413e8d3b15f0cac69b8f",
       "version_major": 2,
       "version_minor": 0
      },
      "text/plain": [
       "  0%|          | 0/2 [00:00<?, ?it/s]"
      ]
     },
     "metadata": {},
     "output_type": "display_data"
    }
   ],
   "source": [
    "image_id = []\n",
    "dim0 = []\n",
    "dim1 = []\n",
    "splits = []\n",
    "\n",
    "split = 'test'\n",
    "save_dir = f'/kaggle/tmp/{split}/'\n",
    "\n",
    "os.makedirs(save_dir, exist_ok=True)\n",
    "\n",
    "\n",
    "save_dir = f'/kaggle/tmp/{split}/image_detect/'\n",
    "os.makedirs(save_dir, exist_ok=True)\n",
    "# if fast_sub:\n",
    "for i in tqdm(range(len(test_df))):\n",
    "#         xray = read_xray('../input/siim-covid19-detection/train/00086460a852/9e8302230c91/65761e66de9f.dcm')\n",
    "    xray = read_xray(test_df.loc[i,'dcm_path'])\n",
    "    im = resize(xray, size=512)  \n",
    "    im.save(os.path.join(save_dir, test_df.loc[i,'image_id'] + '.png'))\n",
    "    image_id.append(test_df.loc[i,'image_id'].replace(\"_image\",\"\"))\n",
    "    dim0.append(xray.shape[0])\n",
    "    dim1.append(xray.shape[1])\n",
    "    splits.append(split)\n",
    "#         xray = read_xray('../input/siim-covid19-detection/train/000c9c05fd14/e555410bd2cd/51759b5579bc.dcm')\n",
    "#         im = resize(xray, size=512)  \n",
    "#         im.save(os.path.join(save_dir, '51759b5579bc_image.png'))\n",
    "#         image_id.append('51759b5579bc.dcm'.replace('.dcm', ''))\n",
    "#         dim0.append(xray.shape[0])\n",
    "#         dim1.append(xray.shape[1])\n",
    "#         splits.append(split)\n",
    "# else:\n",
    "#     for dirname, _, filenames in tqdm(os.walk(f'../input/siim-covid19-detection/{split}')):\n",
    "#         for file in filenames:\n",
    "#             # set keep_ratio=True to have original aspect ratio\n",
    "#             xray = read_xray(os.path.join(dirname, file))\n",
    "#             im = resize(xray, size=512)  \n",
    "#             im.save(os.path.join(save_dir, file.replace('.dcm', '_image.png')))\n",
    "#             image_id.append(file.replace('.dcm', ''))\n",
    "#             dim0.append(xray.shape[0])\n",
    "#             dim1.append(xray.shape[1])\n",
    "#             splits.append(split)\n",
    "meta = pd.DataFrame.from_dict({'image_id': image_id, 'dim0': dim0, 'dim1': dim1, 'split': splits})"
   ]
  },
  {
   "cell_type": "markdown",
   "id": "atmospheric-killing",
   "metadata": {
    "papermill": {
     "duration": 0.052292,
     "end_time": "2021-08-11T03:16:48.868251",
     "exception": false,
     "start_time": "2021-08-11T03:16:48.815959",
     "status": "completed"
    },
    "tags": []
   },
   "source": [
    "# yolov5 predict"
   ]
  },
  {
   "cell_type": "code",
   "execution_count": 19,
   "id": "therapeutic-punch",
   "metadata": {
    "execution": {
     "iopub.execute_input": "2021-08-11T03:16:48.975226Z",
     "iopub.status.busy": "2021-08-11T03:16:48.974565Z",
     "iopub.status.idle": "2021-08-11T03:16:51.451921Z",
     "shell.execute_reply": "2021-08-11T03:16:51.451349Z",
     "shell.execute_reply.started": "2021-08-11T02:50:01.085231Z"
    },
    "papermill": {
     "duration": 2.533003,
     "end_time": "2021-08-11T03:16:51.452104",
     "exception": false,
     "start_time": "2021-08-11T03:16:48.919101",
     "status": "completed"
    },
    "tags": []
   },
   "outputs": [
    {
     "data": {
      "text/plain": [
       "<weakproxy at 0x7fec6b765d70 to Device at 0x7fec6aabd490>"
      ]
     },
     "execution_count": 19,
     "metadata": {},
     "output_type": "execute_result"
    }
   ],
   "source": [
    "from numba import cuda\n",
    "import torch\n",
    "cuda.select_device(0)\n",
    "cuda.close()\n",
    "cuda.select_device(0)"
   ]
  },
  {
   "cell_type": "code",
   "execution_count": 20,
   "id": "sixth-browse",
   "metadata": {
    "execution": {
     "iopub.execute_input": "2021-08-11T03:16:51.560921Z",
     "iopub.status.busy": "2021-08-11T03:16:51.560258Z",
     "iopub.status.idle": "2021-08-11T03:16:52.155354Z",
     "shell.execute_reply": "2021-08-11T03:16:52.154848Z",
     "shell.execute_reply.started": "2021-08-11T02:50:03.520324Z"
    },
    "papermill": {
     "duration": 0.651412,
     "end_time": "2021-08-11T03:16:52.155488",
     "exception": false,
     "start_time": "2021-08-11T03:16:51.504076",
     "status": "completed"
    },
    "tags": []
   },
   "outputs": [],
   "source": [
    "import numpy as np, pandas as pd\n",
    "from glob import glob\n",
    "import shutil, os\n",
    "import matplotlib.pyplot as plt\n",
    "from sklearn.model_selection import GroupKFold\n",
    "from tqdm.notebook import tqdm\n",
    "import seaborn as sns\n",
    "import torch"
   ]
  },
  {
   "cell_type": "code",
   "execution_count": 21,
   "id": "brief-cooperative",
   "metadata": {
    "execution": {
     "iopub.execute_input": "2021-08-11T03:16:52.275153Z",
     "iopub.status.busy": "2021-08-11T03:16:52.274425Z",
     "iopub.status.idle": "2021-08-11T03:16:52.277914Z",
     "shell.execute_reply": "2021-08-11T03:16:52.277517Z",
     "shell.execute_reply.started": "2021-08-11T02:50:04.170398Z"
    },
    "papermill": {
     "duration": 0.071155,
     "end_time": "2021-08-11T03:16:52.278024",
     "exception": false,
     "start_time": "2021-08-11T03:16:52.206869",
     "status": "completed"
    },
    "tags": []
   },
   "outputs": [
    {
     "data": {
      "text/html": [
       "<div>\n",
       "<style scoped>\n",
       "    .dataframe tbody tr th:only-of-type {\n",
       "        vertical-align: middle;\n",
       "    }\n",
       "\n",
       "    .dataframe tbody tr th {\n",
       "        vertical-align: top;\n",
       "    }\n",
       "\n",
       "    .dataframe thead th {\n",
       "        text-align: right;\n",
       "    }\n",
       "</style>\n",
       "<table border=\"1\" class=\"dataframe\">\n",
       "  <thead>\n",
       "    <tr style=\"text-align: right;\">\n",
       "      <th></th>\n",
       "      <th>id</th>\n",
       "      <th>PredictionString</th>\n",
       "      <th>dim0</th>\n",
       "      <th>dim1</th>\n",
       "      <th>split</th>\n",
       "    </tr>\n",
       "  </thead>\n",
       "  <tbody>\n",
       "    <tr>\n",
       "      <th>0</th>\n",
       "      <td>2a2f54eb48df_image</td>\n",
       "      <td>none 1 0 0 1 1</td>\n",
       "      <td>2996</td>\n",
       "      <td>3052</td>\n",
       "      <td>test</td>\n",
       "    </tr>\n",
       "    <tr>\n",
       "      <th>1</th>\n",
       "      <td>27d3da7a8e3d_image</td>\n",
       "      <td>none 1 0 0 1 1</td>\n",
       "      <td>3480</td>\n",
       "      <td>4240</td>\n",
       "      <td>test</td>\n",
       "    </tr>\n",
       "  </tbody>\n",
       "</table>\n",
       "</div>"
      ],
      "text/plain": [
       "                   id PredictionString  dim0  dim1 split\n",
       "0  2a2f54eb48df_image   none 1 0 0 1 1  2996  3052  test\n",
       "1  27d3da7a8e3d_image   none 1 0 0 1 1  3480  4240  test"
      ]
     },
     "execution_count": 21,
     "metadata": {},
     "output_type": "execute_result"
    }
   ],
   "source": [
    "meta = meta[meta['split'] == 'test']\n",
    "# if fast_sub:\n",
    "test_df = test_df.iloc[:,:2]\n",
    "test_df.columns = ['id', 'PredictionString']\n",
    "# else:\n",
    "#     test_df = pd.read_csv('/kaggle/input/siim-covid19-detection/sample_submission.csv')\n",
    "# test_df = test_df.reset_index(drop=True) \n",
    "meta['image_id'] = meta['image_id'] + '_image'\n",
    "meta.columns = ['id', 'dim0', 'dim1', 'split']\n",
    "test_df = pd.merge(test_df, meta, on = 'id', how = 'left')\n",
    "test_df"
   ]
  },
  {
   "cell_type": "code",
   "execution_count": 22,
   "id": "initial-words",
   "metadata": {
    "execution": {
     "iopub.execute_input": "2021-08-11T03:16:52.400277Z",
     "iopub.status.busy": "2021-08-11T03:16:52.393406Z",
     "iopub.status.idle": "2021-08-11T03:17:06.891397Z",
     "shell.execute_reply": "2021-08-11T03:17:06.891917Z",
     "shell.execute_reply.started": "2021-08-11T02:50:04.980277Z"
    },
    "papermill": {
     "duration": 14.562805,
     "end_time": "2021-08-11T03:17:06.892107",
     "exception": false,
     "start_time": "2021-08-11T03:16:52.329302",
     "status": "completed"
    },
    "tags": []
   },
   "outputs": [
    {
     "name": "stdout",
     "output_type": "stream",
     "text": [
      "Namespace(agnostic_nms=False, augment=False, classes=None, conf_thres=0.001, device='', exist_ok=True, img_size=512, iou_thres=0.5, name='exp', project='runs/detect', save_conf=True, save_txt=True, source='/kaggle/tmp/test/image_detect', update=False, view_img=False, weights=['/kaggle/input/image-train/yolov5/runs/train/exp/weights/best.pt'])\r\n",
      "Fusing layers... \r\n",
      "image 1/2 /kaggle/tmp/test/image_detect/27d3da7a8e3d_image.png: 512x512 25 0. opacitys, Done. (0.059s)\r\n",
      "image 2/2 /kaggle/tmp/test/image_detect/2a2f54eb48df_image.png: 512x512 9 0. opacitys, Done. (0.047s)\r\n",
      "Results saved to runs/detect/exp\r\n",
      "2 labels saved to runs/detect/exp/labels\r\n",
      "Done. (0.342s)\r\n"
     ]
    },
    {
     "data": {
      "application/vnd.jupyter.widget-view+json": {
       "model_id": "9d03a78e3ef14e09ba8b457812d58d97",
       "version_major": 2,
       "version_minor": 0
      },
      "text/plain": [
       "  0%|          | 0/2 [00:00<?, ?it/s]"
      ]
     },
     "metadata": {},
     "output_type": "display_data"
    }
   ],
   "source": [
    "dim = 512 #1024, 256, 'original'\n",
    "test_dir = f'/kaggle/tmp/{split}/image_detect'\n",
    "weights_dir = '/kaggle/input/image-train/yolov5/runs/train/exp/weights/best.pt'\n",
    "\n",
    "shutil.copytree('/kaggle/input/yolov5-official-v31-dataset/yolov5', '/kaggle/working/yolov5')\n",
    "os.chdir('/kaggle/working/yolov5') # install dependencies\n",
    "\n",
    "import torch\n",
    "#from IPython.display import Image, clear_output  # to display images\n",
    "\n",
    "#clear_output()\n",
    "#print('Setup complete. Using torch %s %s' % (torch.__version__, torch.cuda.get_device_properties(0) if torch.cuda.is_available() else 'CPU'))\n",
    "\n",
    "\n",
    "!python detect.py --weights $weights_dir\\\n",
    "--img 512\\\n",
    "--conf 0.001\\\n",
    "--iou 0.5\\\n",
    "--source $test_dir\\\n",
    "--save-txt --save-conf --exist-ok\n",
    "def yolo2voc(image_height, image_width, bboxes):\n",
    "    \"\"\"\n",
    "    yolo => [xmid, ymid, w, h] (normalized)\n",
    "    voc  => [x1, y1, x2, y1]\n",
    "\n",
    "    \"\"\" \n",
    "    bboxes = bboxes.copy().astype(float) # otherwise all value will be 0 as voc_pascal dtype is np.int\n",
    "\n",
    "    bboxes[..., [0, 2]] = bboxes[..., [0, 2]]* image_width\n",
    "    bboxes[..., [1, 3]] = bboxes[..., [1, 3]]* image_height\n",
    "\n",
    "    bboxes[..., [0, 1]] = bboxes[..., [0, 1]] - bboxes[..., [2, 3]]/2\n",
    "    bboxes[..., [2, 3]] = bboxes[..., [0, 1]] + bboxes[..., [2, 3]]\n",
    "\n",
    "    return bboxes\n",
    "image_ids = []\n",
    "PredictionStrings = []\n",
    "\n",
    "for file_path in tqdm(glob('runs/detect/exp/labels/*.txt')):\n",
    "    image_id = file_path.split('/')[-1].split('.')[0]\n",
    "    w, h = test_df.loc[test_df.id==image_id,['dim1', 'dim0']].values[0]\n",
    "    f = open(file_path, 'r')\n",
    "    data = np.array(f.read().replace('\\n', ' ').strip().split(' ')).astype(np.float32).reshape(-1, 6)\n",
    "    data = data[:, [0, 5, 1, 2, 3, 4]]\n",
    "    bboxes = list(np.round(np.concatenate((data[:, :2], np.round(yolo2voc(h, w, data[:, 2:]))), axis =1).reshape(-1), 12).astype(str))\n",
    "    for idx in range(len(bboxes)):\n",
    "        bboxes[idx] = str(int(float(bboxes[idx]))) if idx%6!=1 else bboxes[idx]\n",
    "    image_ids.append(image_id)\n",
    "    PredictionStrings.append(' '.join(bboxes))\n",
    "\n",
    "\n",
    "pred_df = pd.DataFrame({'id':image_ids,\n",
    "                        'PredictionString':PredictionStrings})"
   ]
  },
  {
   "cell_type": "code",
   "execution_count": 23,
   "id": "meaning-battle",
   "metadata": {
    "execution": {
     "iopub.execute_input": "2021-08-11T03:17:07.043446Z",
     "iopub.status.busy": "2021-08-11T03:17:07.042607Z",
     "iopub.status.idle": "2021-08-11T03:17:07.303398Z",
     "shell.execute_reply": "2021-08-11T03:17:07.302884Z",
     "shell.execute_reply.started": "2021-08-11T02:50:20.098742Z"
    },
    "papermill": {
     "duration": 0.347016,
     "end_time": "2021-08-11T03:17:07.303531",
     "exception": false,
     "start_time": "2021-08-11T03:17:06.956515",
     "status": "completed"
    },
    "tags": []
   },
   "outputs": [],
   "source": [
    "test_df = test_df.drop(['PredictionString'], axis=1)\n",
    "sub_df = pd.merge(test_df, pred_df, on = 'id', how = 'left').fillna(\"none 1 0 0 1 1\")\n",
    "sub_df = sub_df[['id', 'PredictionString']]\n",
    "for i in range(sub_df.shape[0]):\n",
    "    if sub_df.loc[i,'PredictionString'] == \"none 1 0 0 1 1\":\n",
    "        continue\n",
    "    sub_df_split = sub_df.loc[i,'PredictionString'].split()\n",
    "    sub_df_list = []\n",
    "    for j in range(int(len(sub_df_split) / 6)):\n",
    "        sub_df_list.append('opacity')\n",
    "        sub_df_list.append(sub_df_split[6 * j + 1])\n",
    "        sub_df_list.append(sub_df_split[6 * j + 2])\n",
    "        sub_df_list.append(sub_df_split[6 * j + 3])\n",
    "        sub_df_list.append(sub_df_split[6 * j + 4])\n",
    "        sub_df_list.append(sub_df_split[6 * j + 5])\n",
    "    sub_df.loc[i,'PredictionString'] = ' '.join(sub_df_list)\n",
    "# sub_df['none'] = df_2class['none'] \n",
    "image_df = image_df['none'].reset_index()\n",
    "sub_df['none'] = image_df['none'] \n",
    "for i in range(sub_df.shape[0]):\n",
    "    if sub_df.loc[i,'PredictionString'] != 'none 1 0 0 1 1':\n",
    "        sub_df.loc[i,'PredictionString'] = sub_df.loc[i,'PredictionString'] + ' none ' + str(sub_df.loc[i,'none']) + ' 0 0 1 1'\n",
    "sub_df = sub_df[['id', 'PredictionString']]   \n",
    "# df_study = study_df.loc[:study_len]\n",
    "df_study = study_df.loc[:,['study_id', 'PredictionString']]\n",
    "df_study.columns = ['id', 'PredictionString']\n",
    "df_study = df_study.append(sub_df).reset_index(drop=True)\n",
    "df_study.to_csv('/kaggle/working/submission.csv',index = False)  \n",
    "shutil.rmtree('/kaggle/working/yolov5')"
   ]
  },
  {
   "cell_type": "code",
   "execution_count": 24,
   "id": "packed-contractor",
   "metadata": {
    "execution": {
     "iopub.execute_input": "2021-08-11T03:17:07.418992Z",
     "iopub.status.busy": "2021-08-11T03:17:07.418176Z",
     "iopub.status.idle": "2021-08-11T03:17:07.421899Z",
     "shell.execute_reply": "2021-08-11T03:17:07.421509Z",
     "shell.execute_reply.started": "2021-08-11T02:50:20.428434Z"
    },
    "papermill": {
     "duration": 0.064884,
     "end_time": "2021-08-11T03:17:07.422004",
     "exception": false,
     "start_time": "2021-08-11T03:17:07.357120",
     "status": "completed"
    },
    "tags": []
   },
   "outputs": [
    {
     "data": {
      "text/html": [
       "<div>\n",
       "<style scoped>\n",
       "    .dataframe tbody tr th:only-of-type {\n",
       "        vertical-align: middle;\n",
       "    }\n",
       "\n",
       "    .dataframe tbody tr th {\n",
       "        vertical-align: top;\n",
       "    }\n",
       "\n",
       "    .dataframe thead th {\n",
       "        text-align: right;\n",
       "    }\n",
       "</style>\n",
       "<table border=\"1\" class=\"dataframe\">\n",
       "  <thead>\n",
       "    <tr style=\"text-align: right;\">\n",
       "      <th></th>\n",
       "      <th>id</th>\n",
       "      <th>PredictionString</th>\n",
       "    </tr>\n",
       "  </thead>\n",
       "  <tbody>\n",
       "    <tr>\n",
       "      <th>0</th>\n",
       "      <td>2a2f54eb48df_image</td>\n",
       "      <td>opacity 0.001171109965 2498 1644 2861 2142 opa...</td>\n",
       "    </tr>\n",
       "    <tr>\n",
       "      <th>1</th>\n",
       "      <td>27d3da7a8e3d_image</td>\n",
       "      <td>opacity 0.001051899977 398 2059 1615 2923 opac...</td>\n",
       "    </tr>\n",
       "  </tbody>\n",
       "</table>\n",
       "</div>"
      ],
      "text/plain": [
       "                   id                                   PredictionString\n",
       "0  2a2f54eb48df_image  opacity 0.001171109965 2498 1644 2861 2142 opa...\n",
       "1  27d3da7a8e3d_image  opacity 0.001051899977 398 2059 1615 2923 opac..."
      ]
     },
     "execution_count": 24,
     "metadata": {},
     "output_type": "execute_result"
    }
   ],
   "source": [
    "sub_df"
   ]
  },
  {
   "cell_type": "code",
   "execution_count": 25,
   "id": "anticipated-panic",
   "metadata": {
    "execution": {
     "iopub.execute_input": "2021-08-11T03:17:07.536743Z",
     "iopub.status.busy": "2021-08-11T03:17:07.536000Z",
     "iopub.status.idle": "2021-08-11T03:17:07.539141Z",
     "shell.execute_reply": "2021-08-11T03:17:07.539563Z",
     "shell.execute_reply.started": "2021-08-11T02:51:47.92713Z"
    },
    "papermill": {
     "duration": 0.063971,
     "end_time": "2021-08-11T03:17:07.539697",
     "exception": false,
     "start_time": "2021-08-11T03:17:07.475726",
     "status": "completed"
    },
    "tags": []
   },
   "outputs": [
    {
     "data": {
      "text/html": [
       "<div>\n",
       "<style scoped>\n",
       "    .dataframe tbody tr th:only-of-type {\n",
       "        vertical-align: middle;\n",
       "    }\n",
       "\n",
       "    .dataframe tbody tr th {\n",
       "        vertical-align: top;\n",
       "    }\n",
       "\n",
       "    .dataframe thead th {\n",
       "        text-align: right;\n",
       "    }\n",
       "</style>\n",
       "<table border=\"1\" class=\"dataframe\">\n",
       "  <thead>\n",
       "    <tr style=\"text-align: right;\">\n",
       "      <th></th>\n",
       "      <th>id</th>\n",
       "      <th>dim0</th>\n",
       "      <th>dim1</th>\n",
       "      <th>split</th>\n",
       "    </tr>\n",
       "  </thead>\n",
       "  <tbody>\n",
       "    <tr>\n",
       "      <th>0</th>\n",
       "      <td>2a2f54eb48df_image</td>\n",
       "      <td>2996</td>\n",
       "      <td>3052</td>\n",
       "      <td>test</td>\n",
       "    </tr>\n",
       "    <tr>\n",
       "      <th>1</th>\n",
       "      <td>27d3da7a8e3d_image</td>\n",
       "      <td>3480</td>\n",
       "      <td>4240</td>\n",
       "      <td>test</td>\n",
       "    </tr>\n",
       "  </tbody>\n",
       "</table>\n",
       "</div>"
      ],
      "text/plain": [
       "                   id  dim0  dim1 split\n",
       "0  2a2f54eb48df_image  2996  3052  test\n",
       "1  27d3da7a8e3d_image  3480  4240  test"
      ]
     },
     "execution_count": 25,
     "metadata": {},
     "output_type": "execute_result"
    }
   ],
   "source": [
    "test_df"
   ]
  },
  {
   "cell_type": "code",
   "execution_count": 26,
   "id": "administrative-russell",
   "metadata": {
    "execution": {
     "iopub.execute_input": "2021-08-11T03:17:07.652807Z",
     "iopub.status.busy": "2021-08-11T03:17:07.652109Z",
     "iopub.status.idle": "2021-08-11T03:17:07.655907Z",
     "shell.execute_reply": "2021-08-11T03:17:07.655434Z",
     "shell.execute_reply.started": "2021-08-11T02:51:48.107221Z"
    },
    "papermill": {
     "duration": 0.062929,
     "end_time": "2021-08-11T03:17:07.656012",
     "exception": false,
     "start_time": "2021-08-11T03:17:07.593083",
     "status": "completed"
    },
    "tags": []
   },
   "outputs": [
    {
     "data": {
      "text/html": [
       "<div>\n",
       "<style scoped>\n",
       "    .dataframe tbody tr th:only-of-type {\n",
       "        vertical-align: middle;\n",
       "    }\n",
       "\n",
       "    .dataframe tbody tr th {\n",
       "        vertical-align: top;\n",
       "    }\n",
       "\n",
       "    .dataframe thead th {\n",
       "        text-align: right;\n",
       "    }\n",
       "</style>\n",
       "<table border=\"1\" class=\"dataframe\">\n",
       "  <thead>\n",
       "    <tr style=\"text-align: right;\">\n",
       "      <th></th>\n",
       "      <th>id</th>\n",
       "      <th>PredictionString</th>\n",
       "    </tr>\n",
       "  </thead>\n",
       "  <tbody>\n",
       "    <tr>\n",
       "      <th>0</th>\n",
       "      <td>2a2f54eb48df_image</td>\n",
       "      <td>0 0.001171109965 2498 1644 2861 2142 0 0.00124...</td>\n",
       "    </tr>\n",
       "    <tr>\n",
       "      <th>1</th>\n",
       "      <td>27d3da7a8e3d_image</td>\n",
       "      <td>0 0.001051899977 398 2059 1615 2923 0 0.001165...</td>\n",
       "    </tr>\n",
       "  </tbody>\n",
       "</table>\n",
       "</div>"
      ],
      "text/plain": [
       "                   id                                   PredictionString\n",
       "0  2a2f54eb48df_image  0 0.001171109965 2498 1644 2861 2142 0 0.00124...\n",
       "1  27d3da7a8e3d_image  0 0.001051899977 398 2059 1615 2923 0 0.001165..."
      ]
     },
     "execution_count": 26,
     "metadata": {},
     "output_type": "execute_result"
    }
   ],
   "source": [
    "pred_df"
   ]
  },
  {
   "cell_type": "code",
   "execution_count": 27,
   "id": "common-former",
   "metadata": {
    "execution": {
     "iopub.execute_input": "2021-08-11T03:17:07.770961Z",
     "iopub.status.busy": "2021-08-11T03:17:07.770169Z",
     "iopub.status.idle": "2021-08-11T03:17:07.773567Z",
     "shell.execute_reply": "2021-08-11T03:17:07.773963Z",
     "shell.execute_reply.started": "2021-08-11T02:51:48.290184Z"
    },
    "papermill": {
     "duration": 0.064024,
     "end_time": "2021-08-11T03:17:07.774111",
     "exception": false,
     "start_time": "2021-08-11T03:17:07.710087",
     "status": "completed"
    },
    "tags": []
   },
   "outputs": [
    {
     "data": {
      "text/html": [
       "<div>\n",
       "<style scoped>\n",
       "    .dataframe tbody tr th:only-of-type {\n",
       "        vertical-align: middle;\n",
       "    }\n",
       "\n",
       "    .dataframe tbody tr th {\n",
       "        vertical-align: top;\n",
       "    }\n",
       "\n",
       "    .dataframe thead th {\n",
       "        text-align: right;\n",
       "    }\n",
       "</style>\n",
       "<table border=\"1\" class=\"dataframe\">\n",
       "  <thead>\n",
       "    <tr style=\"text-align: right;\">\n",
       "      <th></th>\n",
       "      <th>index</th>\n",
       "      <th>none</th>\n",
       "    </tr>\n",
       "  </thead>\n",
       "  <tbody>\n",
       "    <tr>\n",
       "      <th>0</th>\n",
       "      <td>351</td>\n",
       "      <td>0.856867</td>\n",
       "    </tr>\n",
       "    <tr>\n",
       "      <th>1</th>\n",
       "      <td>1206</td>\n",
       "      <td>0.570324</td>\n",
       "    </tr>\n",
       "  </tbody>\n",
       "</table>\n",
       "</div>"
      ],
      "text/plain": [
       "   index      none\n",
       "0    351  0.856867\n",
       "1   1206  0.570324"
      ]
     },
     "execution_count": 27,
     "metadata": {},
     "output_type": "execute_result"
    }
   ],
   "source": [
    "image_df"
   ]
  },
  {
   "cell_type": "code",
   "execution_count": 28,
   "id": "whole-encyclopedia",
   "metadata": {
    "execution": {
     "iopub.execute_input": "2021-08-11T03:17:07.901661Z",
     "iopub.status.busy": "2021-08-11T03:17:07.900804Z",
     "iopub.status.idle": "2021-08-11T03:17:07.904948Z",
     "shell.execute_reply": "2021-08-11T03:17:07.904376Z"
    },
    "papermill": {
     "duration": 0.073494,
     "end_time": "2021-08-11T03:17:07.905095",
     "exception": false,
     "start_time": "2021-08-11T03:17:07.831601",
     "status": "completed"
    },
    "tags": []
   },
   "outputs": [
    {
     "data": {
      "text/html": [
       "<div>\n",
       "<style scoped>\n",
       "    .dataframe tbody tr th:only-of-type {\n",
       "        vertical-align: middle;\n",
       "    }\n",
       "\n",
       "    .dataframe tbody tr th {\n",
       "        vertical-align: top;\n",
       "    }\n",
       "\n",
       "    .dataframe thead th {\n",
       "        text-align: right;\n",
       "    }\n",
       "</style>\n",
       "<table border=\"1\" class=\"dataframe\">\n",
       "  <thead>\n",
       "    <tr style=\"text-align: right;\">\n",
       "      <th></th>\n",
       "      <th>study_id</th>\n",
       "      <th>PredictionString</th>\n",
       "      <th>level</th>\n",
       "      <th>dcm_path</th>\n",
       "      <th>image_id</th>\n",
       "      <th>image_path</th>\n",
       "      <th>negative</th>\n",
       "      <th>typical</th>\n",
       "      <th>indeterminate</th>\n",
       "      <th>atypical</th>\n",
       "    </tr>\n",
       "  </thead>\n",
       "  <tbody>\n",
       "    <tr>\n",
       "      <th>1046</th>\n",
       "      <td>ce2d48a26e5e_study</td>\n",
       "      <td>negative 0.08432073891162872 0 0 1 1 typical 0...</td>\n",
       "      <td>study</td>\n",
       "      <td>/kaggle/input/siim-covid19-detection/test/ce2d...</td>\n",
       "      <td>a1883aeaa8f0_image</td>\n",
       "      <td>/kaggle/tmp/test/study/ce2d48a26e5e_study.png</td>\n",
       "      <td>0.084321</td>\n",
       "      <td>0.329937</td>\n",
       "      <td>0.237947</td>\n",
       "      <td>0.347795</td>\n",
       "    </tr>\n",
       "    <tr>\n",
       "      <th>68</th>\n",
       "      <td>0ec0901a5d45_study</td>\n",
       "      <td>negative 0.1501372754573822 0 0 1 1 typical 0....</td>\n",
       "      <td>study</td>\n",
       "      <td>/kaggle/input/siim-covid19-detection/test/0ec0...</td>\n",
       "      <td>4d7b06512cc1_image</td>\n",
       "      <td>/kaggle/tmp/test/study/0ec0901a5d45_study.png</td>\n",
       "      <td>0.150137</td>\n",
       "      <td>0.358529</td>\n",
       "      <td>0.306055</td>\n",
       "      <td>0.185279</td>\n",
       "    </tr>\n",
       "  </tbody>\n",
       "</table>\n",
       "</div>"
      ],
      "text/plain": [
       "                study_id                                   PredictionString  \\\n",
       "1046  ce2d48a26e5e_study  negative 0.08432073891162872 0 0 1 1 typical 0...   \n",
       "68    0ec0901a5d45_study  negative 0.1501372754573822 0 0 1 1 typical 0....   \n",
       "\n",
       "      level                                           dcm_path  \\\n",
       "1046  study  /kaggle/input/siim-covid19-detection/test/ce2d...   \n",
       "68    study  /kaggle/input/siim-covid19-detection/test/0ec0...   \n",
       "\n",
       "                image_id                                     image_path  \\\n",
       "1046  a1883aeaa8f0_image  /kaggle/tmp/test/study/ce2d48a26e5e_study.png   \n",
       "68    4d7b06512cc1_image  /kaggle/tmp/test/study/0ec0901a5d45_study.png   \n",
       "\n",
       "      negative   typical  indeterminate  atypical  \n",
       "1046  0.084321  0.329937       0.237947  0.347795  \n",
       "68    0.150137  0.358529       0.306055  0.185279  "
      ]
     },
     "execution_count": 28,
     "metadata": {},
     "output_type": "execute_result"
    }
   ],
   "source": [
    "study_df"
   ]
  },
  {
   "cell_type": "code",
   "execution_count": 29,
   "id": "particular-appraisal",
   "metadata": {
    "execution": {
     "iopub.execute_input": "2021-08-11T03:17:08.024416Z",
     "iopub.status.busy": "2021-08-11T03:17:08.023645Z",
     "iopub.status.idle": "2021-08-11T03:17:08.026921Z",
     "shell.execute_reply": "2021-08-11T03:17:08.027306Z"
    },
    "papermill": {
     "duration": 0.065533,
     "end_time": "2021-08-11T03:17:08.027441",
     "exception": false,
     "start_time": "2021-08-11T03:17:07.961908",
     "status": "completed"
    },
    "tags": []
   },
   "outputs": [
    {
     "data": {
      "text/html": [
       "<div>\n",
       "<style scoped>\n",
       "    .dataframe tbody tr th:only-of-type {\n",
       "        vertical-align: middle;\n",
       "    }\n",
       "\n",
       "    .dataframe tbody tr th {\n",
       "        vertical-align: top;\n",
       "    }\n",
       "\n",
       "    .dataframe thead th {\n",
       "        text-align: right;\n",
       "    }\n",
       "</style>\n",
       "<table border=\"1\" class=\"dataframe\">\n",
       "  <thead>\n",
       "    <tr style=\"text-align: right;\">\n",
       "      <th></th>\n",
       "      <th>id</th>\n",
       "      <th>PredictionString</th>\n",
       "    </tr>\n",
       "  </thead>\n",
       "  <tbody>\n",
       "    <tr>\n",
       "      <th>0</th>\n",
       "      <td>ce2d48a26e5e_study</td>\n",
       "      <td>negative 0.08432073891162872 0 0 1 1 typical 0...</td>\n",
       "    </tr>\n",
       "    <tr>\n",
       "      <th>1</th>\n",
       "      <td>0ec0901a5d45_study</td>\n",
       "      <td>negative 0.1501372754573822 0 0 1 1 typical 0....</td>\n",
       "    </tr>\n",
       "    <tr>\n",
       "      <th>2</th>\n",
       "      <td>2a2f54eb48df_image</td>\n",
       "      <td>opacity 0.001171109965 2498 1644 2861 2142 opa...</td>\n",
       "    </tr>\n",
       "    <tr>\n",
       "      <th>3</th>\n",
       "      <td>27d3da7a8e3d_image</td>\n",
       "      <td>opacity 0.001051899977 398 2059 1615 2923 opac...</td>\n",
       "    </tr>\n",
       "  </tbody>\n",
       "</table>\n",
       "</div>"
      ],
      "text/plain": [
       "                   id                                   PredictionString\n",
       "0  ce2d48a26e5e_study  negative 0.08432073891162872 0 0 1 1 typical 0...\n",
       "1  0ec0901a5d45_study  negative 0.1501372754573822 0 0 1 1 typical 0....\n",
       "2  2a2f54eb48df_image  opacity 0.001171109965 2498 1644 2861 2142 opa...\n",
       "3  27d3da7a8e3d_image  opacity 0.001051899977 398 2059 1615 2923 opac..."
      ]
     },
     "execution_count": 29,
     "metadata": {},
     "output_type": "execute_result"
    }
   ],
   "source": [
    "df_study"
   ]
  }
 ],
 "metadata": {
  "kernelspec": {
   "display_name": "Python 3",
   "language": "python",
   "name": "python3"
  },
  "language_info": {
   "codemirror_mode": {
    "name": "ipython",
    "version": 3
   },
   "file_extension": ".py",
   "mimetype": "text/x-python",
   "name": "python",
   "nbconvert_exporter": "python",
   "pygments_lexer": "ipython3",
   "version": "3.7.10"
  },
  "papermill": {
   "default_parameters": {},
   "duration": 592.981687,
   "end_time": "2021-08-11T03:17:10.862632",
   "environment_variables": {},
   "exception": null,
   "input_path": "__notebook__.ipynb",
   "output_path": "__notebook__.ipynb",
   "parameters": {},
   "start_time": "2021-08-11T03:07:17.880945",
   "version": "2.3.3"
  },
  "widgets": {
   "application/vnd.jupyter.widget-state+json": {
    "state": {
     "178094f0232640e8a6166ed9ede65f6f": {
      "model_module": "@jupyter-widgets/base",
      "model_module_version": "1.2.0",
      "model_name": "LayoutModel",
      "state": {
       "_model_module": "@jupyter-widgets/base",
       "_model_module_version": "1.2.0",
       "_model_name": "LayoutModel",
       "_view_count": null,
       "_view_module": "@jupyter-widgets/base",
       "_view_module_version": "1.2.0",
       "_view_name": "LayoutView",
       "align_content": null,
       "align_items": null,
       "align_self": null,
       "border": null,
       "bottom": null,
       "display": null,
       "flex": null,
       "flex_flow": null,
       "grid_area": null,
       "grid_auto_columns": null,
       "grid_auto_flow": null,
       "grid_auto_rows": null,
       "grid_column": null,
       "grid_gap": null,
       "grid_row": null,
       "grid_template_areas": null,
       "grid_template_columns": null,
       "grid_template_rows": null,
       "height": null,
       "justify_content": null,
       "justify_items": null,
       "left": null,
       "margin": null,
       "max_height": null,
       "max_width": null,
       "min_height": null,
       "min_width": null,
       "object_fit": null,
       "object_position": null,
       "order": null,
       "overflow": null,
       "overflow_x": null,
       "overflow_y": null,
       "padding": null,
       "right": null,
       "top": null,
       "visibility": null,
       "width": null
      }
     },
     "17c5738a7c764cd8aa5fdb789fcbb5e0": {
      "model_module": "@jupyter-widgets/base",
      "model_module_version": "1.2.0",
      "model_name": "LayoutModel",
      "state": {
       "_model_module": "@jupyter-widgets/base",
       "_model_module_version": "1.2.0",
       "_model_name": "LayoutModel",
       "_view_count": null,
       "_view_module": "@jupyter-widgets/base",
       "_view_module_version": "1.2.0",
       "_view_name": "LayoutView",
       "align_content": null,
       "align_items": null,
       "align_self": null,
       "border": null,
       "bottom": null,
       "display": null,
       "flex": null,
       "flex_flow": null,
       "grid_area": null,
       "grid_auto_columns": null,
       "grid_auto_flow": null,
       "grid_auto_rows": null,
       "grid_column": null,
       "grid_gap": null,
       "grid_row": null,
       "grid_template_areas": null,
       "grid_template_columns": null,
       "grid_template_rows": null,
       "height": null,
       "justify_content": null,
       "justify_items": null,
       "left": null,
       "margin": null,
       "max_height": null,
       "max_width": null,
       "min_height": null,
       "min_width": null,
       "object_fit": null,
       "object_position": null,
       "order": null,
       "overflow": null,
       "overflow_x": null,
       "overflow_y": null,
       "padding": null,
       "right": null,
       "top": null,
       "visibility": null,
       "width": null
      }
     },
     "1c6b3b615dfa46cfb16176efad1fbf3d": {
      "model_module": "@jupyter-widgets/controls",
      "model_module_version": "1.5.0",
      "model_name": "DescriptionStyleModel",
      "state": {
       "_model_module": "@jupyter-widgets/controls",
       "_model_module_version": "1.5.0",
       "_model_name": "DescriptionStyleModel",
       "_view_count": null,
       "_view_module": "@jupyter-widgets/base",
       "_view_module_version": "1.2.0",
       "_view_name": "StyleView",
       "description_width": ""
      }
     },
     "1db21fb7264748069eb8d053f1cfe611": {
      "model_module": "@jupyter-widgets/controls",
      "model_module_version": "1.5.0",
      "model_name": "DescriptionStyleModel",
      "state": {
       "_model_module": "@jupyter-widgets/controls",
       "_model_module_version": "1.5.0",
       "_model_name": "DescriptionStyleModel",
       "_view_count": null,
       "_view_module": "@jupyter-widgets/base",
       "_view_module_version": "1.2.0",
       "_view_name": "StyleView",
       "description_width": ""
      }
     },
     "2462d7df8cca499993894438aac22f10": {
      "model_module": "@jupyter-widgets/controls",
      "model_module_version": "1.5.0",
      "model_name": "FloatProgressModel",
      "state": {
       "_dom_classes": [],
       "_model_module": "@jupyter-widgets/controls",
       "_model_module_version": "1.5.0",
       "_model_name": "FloatProgressModel",
       "_view_count": null,
       "_view_module": "@jupyter-widgets/controls",
       "_view_module_version": "1.5.0",
       "_view_name": "ProgressView",
       "bar_style": "success",
       "description": "",
       "description_tooltip": null,
       "layout": "IPY_MODEL_17c5738a7c764cd8aa5fdb789fcbb5e0",
       "max": 2.0,
       "min": 0.0,
       "orientation": "horizontal",
       "style": "IPY_MODEL_50822369840144bb971d83f13b08bd6a",
       "value": 2.0
      }
     },
     "3084a117122d4c7996d1688ecc1326cc": {
      "model_module": "@jupyter-widgets/controls",
      "model_module_version": "1.5.0",
      "model_name": "DescriptionStyleModel",
      "state": {
       "_model_module": "@jupyter-widgets/controls",
       "_model_module_version": "1.5.0",
       "_model_name": "DescriptionStyleModel",
       "_view_count": null,
       "_view_module": "@jupyter-widgets/base",
       "_view_module_version": "1.2.0",
       "_view_name": "StyleView",
       "description_width": ""
      }
     },
     "34ca5c39950a4571a8d72cdd6b101786": {
      "model_module": "@jupyter-widgets/controls",
      "model_module_version": "1.5.0",
      "model_name": "DescriptionStyleModel",
      "state": {
       "_model_module": "@jupyter-widgets/controls",
       "_model_module_version": "1.5.0",
       "_model_name": "DescriptionStyleModel",
       "_view_count": null,
       "_view_module": "@jupyter-widgets/base",
       "_view_module_version": "1.2.0",
       "_view_name": "StyleView",
       "description_width": ""
      }
     },
     "40a6aab8cde2413e8d3b15f0cac69b8f": {
      "model_module": "@jupyter-widgets/controls",
      "model_module_version": "1.5.0",
      "model_name": "HBoxModel",
      "state": {
       "_dom_classes": [],
       "_model_module": "@jupyter-widgets/controls",
       "_model_module_version": "1.5.0",
       "_model_name": "HBoxModel",
       "_view_count": null,
       "_view_module": "@jupyter-widgets/controls",
       "_view_module_version": "1.5.0",
       "_view_name": "HBoxView",
       "box_style": "",
       "children": [
        "IPY_MODEL_e761efc09427409dadcbb153580017d6",
        "IPY_MODEL_2462d7df8cca499993894438aac22f10",
        "IPY_MODEL_9a014b6692d64404acb188ac08f663ea"
       ],
       "layout": "IPY_MODEL_51c14f8532e04264b064700d22154586"
      }
     },
     "47be2078f052409d88dd0f9929911a60": {
      "model_module": "@jupyter-widgets/controls",
      "model_module_version": "1.5.0",
      "model_name": "HBoxModel",
      "state": {
       "_dom_classes": [],
       "_model_module": "@jupyter-widgets/controls",
       "_model_module_version": "1.5.0",
       "_model_name": "HBoxModel",
       "_view_count": null,
       "_view_module": "@jupyter-widgets/controls",
       "_view_module_version": "1.5.0",
       "_view_name": "HBoxView",
       "box_style": "",
       "children": [
        "IPY_MODEL_681887259df3405f997c90e1cb3f2a62",
        "IPY_MODEL_bce635598d214a1ab5ef20423e8d3a99",
        "IPY_MODEL_b54dc471fea74b49b6b056149a3138c0"
       ],
       "layout": "IPY_MODEL_83e18bb5a96844a28104aad86a96544c"
      }
     },
     "50822369840144bb971d83f13b08bd6a": {
      "model_module": "@jupyter-widgets/controls",
      "model_module_version": "1.5.0",
      "model_name": "ProgressStyleModel",
      "state": {
       "_model_module": "@jupyter-widgets/controls",
       "_model_module_version": "1.5.0",
       "_model_name": "ProgressStyleModel",
       "_view_count": null,
       "_view_module": "@jupyter-widgets/base",
       "_view_module_version": "1.2.0",
       "_view_name": "StyleView",
       "bar_color": null,
       "description_width": ""
      }
     },
     "51c14f8532e04264b064700d22154586": {
      "model_module": "@jupyter-widgets/base",
      "model_module_version": "1.2.0",
      "model_name": "LayoutModel",
      "state": {
       "_model_module": "@jupyter-widgets/base",
       "_model_module_version": "1.2.0",
       "_model_name": "LayoutModel",
       "_view_count": null,
       "_view_module": "@jupyter-widgets/base",
       "_view_module_version": "1.2.0",
       "_view_name": "LayoutView",
       "align_content": null,
       "align_items": null,
       "align_self": null,
       "border": null,
       "bottom": null,
       "display": null,
       "flex": null,
       "flex_flow": null,
       "grid_area": null,
       "grid_auto_columns": null,
       "grid_auto_flow": null,
       "grid_auto_rows": null,
       "grid_column": null,
       "grid_gap": null,
       "grid_row": null,
       "grid_template_areas": null,
       "grid_template_columns": null,
       "grid_template_rows": null,
       "height": null,
       "justify_content": null,
       "justify_items": null,
       "left": null,
       "margin": null,
       "max_height": null,
       "max_width": null,
       "min_height": null,
       "min_width": null,
       "object_fit": null,
       "object_position": null,
       "order": null,
       "overflow": null,
       "overflow_x": null,
       "overflow_y": null,
       "padding": null,
       "right": null,
       "top": null,
       "visibility": null,
       "width": null
      }
     },
     "520946a6475341ae84b2bb6194c70926": {
      "model_module": "@jupyter-widgets/base",
      "model_module_version": "1.2.0",
      "model_name": "LayoutModel",
      "state": {
       "_model_module": "@jupyter-widgets/base",
       "_model_module_version": "1.2.0",
       "_model_name": "LayoutModel",
       "_view_count": null,
       "_view_module": "@jupyter-widgets/base",
       "_view_module_version": "1.2.0",
       "_view_name": "LayoutView",
       "align_content": null,
       "align_items": null,
       "align_self": null,
       "border": null,
       "bottom": null,
       "display": null,
       "flex": null,
       "flex_flow": null,
       "grid_area": null,
       "grid_auto_columns": null,
       "grid_auto_flow": null,
       "grid_auto_rows": null,
       "grid_column": null,
       "grid_gap": null,
       "grid_row": null,
       "grid_template_areas": null,
       "grid_template_columns": null,
       "grid_template_rows": null,
       "height": null,
       "justify_content": null,
       "justify_items": null,
       "left": null,
       "margin": null,
       "max_height": null,
       "max_width": null,
       "min_height": null,
       "min_width": null,
       "object_fit": null,
       "object_position": null,
       "order": null,
       "overflow": null,
       "overflow_x": null,
       "overflow_y": null,
       "padding": null,
       "right": null,
       "top": null,
       "visibility": null,
       "width": null
      }
     },
     "560f3bac81c74002a5ba8f73f1bde545": {
      "model_module": "@jupyter-widgets/base",
      "model_module_version": "1.2.0",
      "model_name": "LayoutModel",
      "state": {
       "_model_module": "@jupyter-widgets/base",
       "_model_module_version": "1.2.0",
       "_model_name": "LayoutModel",
       "_view_count": null,
       "_view_module": "@jupyter-widgets/base",
       "_view_module_version": "1.2.0",
       "_view_name": "LayoutView",
       "align_content": null,
       "align_items": null,
       "align_self": null,
       "border": null,
       "bottom": null,
       "display": null,
       "flex": null,
       "flex_flow": null,
       "grid_area": null,
       "grid_auto_columns": null,
       "grid_auto_flow": null,
       "grid_auto_rows": null,
       "grid_column": null,
       "grid_gap": null,
       "grid_row": null,
       "grid_template_areas": null,
       "grid_template_columns": null,
       "grid_template_rows": null,
       "height": null,
       "justify_content": null,
       "justify_items": null,
       "left": null,
       "margin": null,
       "max_height": null,
       "max_width": null,
       "min_height": null,
       "min_width": null,
       "object_fit": null,
       "object_position": null,
       "order": null,
       "overflow": null,
       "overflow_x": null,
       "overflow_y": null,
       "padding": null,
       "right": null,
       "top": null,
       "visibility": null,
       "width": null
      }
     },
     "592ef40112ff410884c991e58e7db321": {
      "model_module": "@jupyter-widgets/base",
      "model_module_version": "1.2.0",
      "model_name": "LayoutModel",
      "state": {
       "_model_module": "@jupyter-widgets/base",
       "_model_module_version": "1.2.0",
       "_model_name": "LayoutModel",
       "_view_count": null,
       "_view_module": "@jupyter-widgets/base",
       "_view_module_version": "1.2.0",
       "_view_name": "LayoutView",
       "align_content": null,
       "align_items": null,
       "align_self": null,
       "border": null,
       "bottom": null,
       "display": null,
       "flex": null,
       "flex_flow": null,
       "grid_area": null,
       "grid_auto_columns": null,
       "grid_auto_flow": null,
       "grid_auto_rows": null,
       "grid_column": null,
       "grid_gap": null,
       "grid_row": null,
       "grid_template_areas": null,
       "grid_template_columns": null,
       "grid_template_rows": null,
       "height": null,
       "justify_content": null,
       "justify_items": null,
       "left": null,
       "margin": null,
       "max_height": null,
       "max_width": null,
       "min_height": null,
       "min_width": null,
       "object_fit": null,
       "object_position": null,
       "order": null,
       "overflow": null,
       "overflow_x": null,
       "overflow_y": null,
       "padding": null,
       "right": null,
       "top": null,
       "visibility": null,
       "width": null
      }
     },
     "65fb286288e841b39fe9c8ce21093eb5": {
      "model_module": "@jupyter-widgets/controls",
      "model_module_version": "1.5.0",
      "model_name": "DescriptionStyleModel",
      "state": {
       "_model_module": "@jupyter-widgets/controls",
       "_model_module_version": "1.5.0",
       "_model_name": "DescriptionStyleModel",
       "_view_count": null,
       "_view_module": "@jupyter-widgets/base",
       "_view_module_version": "1.2.0",
       "_view_name": "StyleView",
       "description_width": ""
      }
     },
     "66642510996844f5887788ab1a0c2f8d": {
      "model_module": "@jupyter-widgets/controls",
      "model_module_version": "1.5.0",
      "model_name": "ProgressStyleModel",
      "state": {
       "_model_module": "@jupyter-widgets/controls",
       "_model_module_version": "1.5.0",
       "_model_name": "ProgressStyleModel",
       "_view_count": null,
       "_view_module": "@jupyter-widgets/base",
       "_view_module_version": "1.2.0",
       "_view_name": "StyleView",
       "bar_color": null,
       "description_width": ""
      }
     },
     "681887259df3405f997c90e1cb3f2a62": {
      "model_module": "@jupyter-widgets/controls",
      "model_module_version": "1.5.0",
      "model_name": "HTMLModel",
      "state": {
       "_dom_classes": [],
       "_model_module": "@jupyter-widgets/controls",
       "_model_module_version": "1.5.0",
       "_model_name": "HTMLModel",
       "_view_count": null,
       "_view_module": "@jupyter-widgets/controls",
       "_view_module_version": "1.5.0",
       "_view_name": "HTMLView",
       "description": "",
       "description_tooltip": null,
       "layout": "IPY_MODEL_a099952bf4c44b97a667d0c15906c8da",
       "placeholder": "​",
       "style": "IPY_MODEL_1c6b3b615dfa46cfb16176efad1fbf3d",
       "value": "100%"
      }
     },
     "7c319ba70a074fe49733448bce946603": {
      "model_module": "@jupyter-widgets/controls",
      "model_module_version": "1.5.0",
      "model_name": "HTMLModel",
      "state": {
       "_dom_classes": [],
       "_model_module": "@jupyter-widgets/controls",
       "_model_module_version": "1.5.0",
       "_model_name": "HTMLModel",
       "_view_count": null,
       "_view_module": "@jupyter-widgets/controls",
       "_view_module_version": "1.5.0",
       "_view_name": "HTMLView",
       "description": "",
       "description_tooltip": null,
       "layout": "IPY_MODEL_520946a6475341ae84b2bb6194c70926",
       "placeholder": "​",
       "style": "IPY_MODEL_34ca5c39950a4571a8d72cdd6b101786",
       "value": " 2/2 [00:00&lt;00:00, 48.07it/s]"
      }
     },
     "7c8e48052d2545b2a79363cf94268bf4": {
      "model_module": "@jupyter-widgets/controls",
      "model_module_version": "1.5.0",
      "model_name": "FloatProgressModel",
      "state": {
       "_dom_classes": [],
       "_model_module": "@jupyter-widgets/controls",
       "_model_module_version": "1.5.0",
       "_model_name": "FloatProgressModel",
       "_view_count": null,
       "_view_module": "@jupyter-widgets/controls",
       "_view_module_version": "1.5.0",
       "_view_name": "ProgressView",
       "bar_style": "success",
       "description": "",
       "description_tooltip": null,
       "layout": "IPY_MODEL_d95ab436c29046239fe551b91ba4e704",
       "max": 2.0,
       "min": 0.0,
       "orientation": "horizontal",
       "style": "IPY_MODEL_b5f10500e4784f5e84a752ca80efe8a6",
       "value": 2.0
      }
     },
     "80c272ea12ca463bb5b7ea4338c31e58": {
      "model_module": "@jupyter-widgets/base",
      "model_module_version": "1.2.0",
      "model_name": "LayoutModel",
      "state": {
       "_model_module": "@jupyter-widgets/base",
       "_model_module_version": "1.2.0",
       "_model_name": "LayoutModel",
       "_view_count": null,
       "_view_module": "@jupyter-widgets/base",
       "_view_module_version": "1.2.0",
       "_view_name": "LayoutView",
       "align_content": null,
       "align_items": null,
       "align_self": null,
       "border": null,
       "bottom": null,
       "display": null,
       "flex": null,
       "flex_flow": null,
       "grid_area": null,
       "grid_auto_columns": null,
       "grid_auto_flow": null,
       "grid_auto_rows": null,
       "grid_column": null,
       "grid_gap": null,
       "grid_row": null,
       "grid_template_areas": null,
       "grid_template_columns": null,
       "grid_template_rows": null,
       "height": null,
       "justify_content": null,
       "justify_items": null,
       "left": null,
       "margin": null,
       "max_height": null,
       "max_width": null,
       "min_height": null,
       "min_width": null,
       "object_fit": null,
       "object_position": null,
       "order": null,
       "overflow": null,
       "overflow_x": null,
       "overflow_y": null,
       "padding": null,
       "right": null,
       "top": null,
       "visibility": null,
       "width": null
      }
     },
     "8340736f6b0641dc97b161ba9740986a": {
      "model_module": "@jupyter-widgets/controls",
      "model_module_version": "1.5.0",
      "model_name": "DescriptionStyleModel",
      "state": {
       "_model_module": "@jupyter-widgets/controls",
       "_model_module_version": "1.5.0",
       "_model_name": "DescriptionStyleModel",
       "_view_count": null,
       "_view_module": "@jupyter-widgets/base",
       "_view_module_version": "1.2.0",
       "_view_name": "StyleView",
       "description_width": ""
      }
     },
     "83e18bb5a96844a28104aad86a96544c": {
      "model_module": "@jupyter-widgets/base",
      "model_module_version": "1.2.0",
      "model_name": "LayoutModel",
      "state": {
       "_model_module": "@jupyter-widgets/base",
       "_model_module_version": "1.2.0",
       "_model_name": "LayoutModel",
       "_view_count": null,
       "_view_module": "@jupyter-widgets/base",
       "_view_module_version": "1.2.0",
       "_view_name": "LayoutView",
       "align_content": null,
       "align_items": null,
       "align_self": null,
       "border": null,
       "bottom": null,
       "display": null,
       "flex": null,
       "flex_flow": null,
       "grid_area": null,
       "grid_auto_columns": null,
       "grid_auto_flow": null,
       "grid_auto_rows": null,
       "grid_column": null,
       "grid_gap": null,
       "grid_row": null,
       "grid_template_areas": null,
       "grid_template_columns": null,
       "grid_template_rows": null,
       "height": null,
       "justify_content": null,
       "justify_items": null,
       "left": null,
       "margin": null,
       "max_height": null,
       "max_width": null,
       "min_height": null,
       "min_width": null,
       "object_fit": null,
       "object_position": null,
       "order": null,
       "overflow": null,
       "overflow_x": null,
       "overflow_y": null,
       "padding": null,
       "right": null,
       "top": null,
       "visibility": null,
       "width": null
      }
     },
     "8a6fa1346648483d8b948915d5631a2d": {
      "model_module": "@jupyter-widgets/controls",
      "model_module_version": "1.5.0",
      "model_name": "HTMLModel",
      "state": {
       "_dom_classes": [],
       "_model_module": "@jupyter-widgets/controls",
       "_model_module_version": "1.5.0",
       "_model_name": "HTMLModel",
       "_view_count": null,
       "_view_module": "@jupyter-widgets/controls",
       "_view_module_version": "1.5.0",
       "_view_name": "HTMLView",
       "description": "",
       "description_tooltip": null,
       "layout": "IPY_MODEL_cfe65b56a8874d0cb519c3f74074ea42",
       "placeholder": "​",
       "style": "IPY_MODEL_1db21fb7264748069eb8d053f1cfe611",
       "value": "100%"
      }
     },
     "8ab8bfdd874a49689d0ef02b0df71b88": {
      "model_module": "@jupyter-widgets/controls",
      "model_module_version": "1.5.0",
      "model_name": "DescriptionStyleModel",
      "state": {
       "_model_module": "@jupyter-widgets/controls",
       "_model_module_version": "1.5.0",
       "_model_name": "DescriptionStyleModel",
       "_view_count": null,
       "_view_module": "@jupyter-widgets/base",
       "_view_module_version": "1.2.0",
       "_view_name": "StyleView",
       "description_width": ""
      }
     },
     "93c7bddb8f5d4ab79078ca2f56cd4340": {
      "model_module": "@jupyter-widgets/base",
      "model_module_version": "1.2.0",
      "model_name": "LayoutModel",
      "state": {
       "_model_module": "@jupyter-widgets/base",
       "_model_module_version": "1.2.0",
       "_model_name": "LayoutModel",
       "_view_count": null,
       "_view_module": "@jupyter-widgets/base",
       "_view_module_version": "1.2.0",
       "_view_name": "LayoutView",
       "align_content": null,
       "align_items": null,
       "align_self": null,
       "border": null,
       "bottom": null,
       "display": null,
       "flex": null,
       "flex_flow": null,
       "grid_area": null,
       "grid_auto_columns": null,
       "grid_auto_flow": null,
       "grid_auto_rows": null,
       "grid_column": null,
       "grid_gap": null,
       "grid_row": null,
       "grid_template_areas": null,
       "grid_template_columns": null,
       "grid_template_rows": null,
       "height": null,
       "justify_content": null,
       "justify_items": null,
       "left": null,
       "margin": null,
       "max_height": null,
       "max_width": null,
       "min_height": null,
       "min_width": null,
       "object_fit": null,
       "object_position": null,
       "order": null,
       "overflow": null,
       "overflow_x": null,
       "overflow_y": null,
       "padding": null,
       "right": null,
       "top": null,
       "visibility": null,
       "width": null
      }
     },
     "9a014b6692d64404acb188ac08f663ea": {
      "model_module": "@jupyter-widgets/controls",
      "model_module_version": "1.5.0",
      "model_name": "HTMLModel",
      "state": {
       "_dom_classes": [],
       "_model_module": "@jupyter-widgets/controls",
       "_model_module_version": "1.5.0",
       "_model_name": "HTMLModel",
       "_view_count": null,
       "_view_module": "@jupyter-widgets/controls",
       "_view_module_version": "1.5.0",
       "_view_name": "HTMLView",
       "description": "",
       "description_tooltip": null,
       "layout": "IPY_MODEL_93c7bddb8f5d4ab79078ca2f56cd4340",
       "placeholder": "​",
       "style": "IPY_MODEL_a088b89a2c6c4962be6a4bccee65ad7a",
       "value": " 2/2 [00:01&lt;00:00,  1.59it/s]"
      }
     },
     "9cf4e5f37d2d430aa5d0a9ba6671eb20": {
      "model_module": "@jupyter-widgets/base",
      "model_module_version": "1.2.0",
      "model_name": "LayoutModel",
      "state": {
       "_model_module": "@jupyter-widgets/base",
       "_model_module_version": "1.2.0",
       "_model_name": "LayoutModel",
       "_view_count": null,
       "_view_module": "@jupyter-widgets/base",
       "_view_module_version": "1.2.0",
       "_view_name": "LayoutView",
       "align_content": null,
       "align_items": null,
       "align_self": null,
       "border": null,
       "bottom": null,
       "display": null,
       "flex": null,
       "flex_flow": null,
       "grid_area": null,
       "grid_auto_columns": null,
       "grid_auto_flow": null,
       "grid_auto_rows": null,
       "grid_column": null,
       "grid_gap": null,
       "grid_row": null,
       "grid_template_areas": null,
       "grid_template_columns": null,
       "grid_template_rows": null,
       "height": null,
       "justify_content": null,
       "justify_items": null,
       "left": null,
       "margin": null,
       "max_height": null,
       "max_width": null,
       "min_height": null,
       "min_width": null,
       "object_fit": null,
       "object_position": null,
       "order": null,
       "overflow": null,
       "overflow_x": null,
       "overflow_y": null,
       "padding": null,
       "right": null,
       "top": null,
       "visibility": null,
       "width": null
      }
     },
     "9d03a78e3ef14e09ba8b457812d58d97": {
      "model_module": "@jupyter-widgets/controls",
      "model_module_version": "1.5.0",
      "model_name": "HBoxModel",
      "state": {
       "_dom_classes": [],
       "_model_module": "@jupyter-widgets/controls",
       "_model_module_version": "1.5.0",
       "_model_name": "HBoxModel",
       "_view_count": null,
       "_view_module": "@jupyter-widgets/controls",
       "_view_module_version": "1.5.0",
       "_view_name": "HBoxView",
       "box_style": "",
       "children": [
        "IPY_MODEL_bbde5593779346869ec7dcb0b6700c7a",
        "IPY_MODEL_7c8e48052d2545b2a79363cf94268bf4",
        "IPY_MODEL_7c319ba70a074fe49733448bce946603"
       ],
       "layout": "IPY_MODEL_df96a28267884b47897a4e36aa8ed1b5"
      }
     },
     "a088b89a2c6c4962be6a4bccee65ad7a": {
      "model_module": "@jupyter-widgets/controls",
      "model_module_version": "1.5.0",
      "model_name": "DescriptionStyleModel",
      "state": {
       "_model_module": "@jupyter-widgets/controls",
       "_model_module_version": "1.5.0",
       "_model_name": "DescriptionStyleModel",
       "_view_count": null,
       "_view_module": "@jupyter-widgets/base",
       "_view_module_version": "1.2.0",
       "_view_name": "StyleView",
       "description_width": ""
      }
     },
     "a099952bf4c44b97a667d0c15906c8da": {
      "model_module": "@jupyter-widgets/base",
      "model_module_version": "1.2.0",
      "model_name": "LayoutModel",
      "state": {
       "_model_module": "@jupyter-widgets/base",
       "_model_module_version": "1.2.0",
       "_model_name": "LayoutModel",
       "_view_count": null,
       "_view_module": "@jupyter-widgets/base",
       "_view_module_version": "1.2.0",
       "_view_name": "LayoutView",
       "align_content": null,
       "align_items": null,
       "align_self": null,
       "border": null,
       "bottom": null,
       "display": null,
       "flex": null,
       "flex_flow": null,
       "grid_area": null,
       "grid_auto_columns": null,
       "grid_auto_flow": null,
       "grid_auto_rows": null,
       "grid_column": null,
       "grid_gap": null,
       "grid_row": null,
       "grid_template_areas": null,
       "grid_template_columns": null,
       "grid_template_rows": null,
       "height": null,
       "justify_content": null,
       "justify_items": null,
       "left": null,
       "margin": null,
       "max_height": null,
       "max_width": null,
       "min_height": null,
       "min_width": null,
       "object_fit": null,
       "object_position": null,
       "order": null,
       "overflow": null,
       "overflow_x": null,
       "overflow_y": null,
       "padding": null,
       "right": null,
       "top": null,
       "visibility": null,
       "width": null
      }
     },
     "a9055039708946ddb79cd0293258dc5b": {
      "model_module": "@jupyter-widgets/base",
      "model_module_version": "1.2.0",
      "model_name": "LayoutModel",
      "state": {
       "_model_module": "@jupyter-widgets/base",
       "_model_module_version": "1.2.0",
       "_model_name": "LayoutModel",
       "_view_count": null,
       "_view_module": "@jupyter-widgets/base",
       "_view_module_version": "1.2.0",
       "_view_name": "LayoutView",
       "align_content": null,
       "align_items": null,
       "align_self": null,
       "border": null,
       "bottom": null,
       "display": null,
       "flex": null,
       "flex_flow": null,
       "grid_area": null,
       "grid_auto_columns": null,
       "grid_auto_flow": null,
       "grid_auto_rows": null,
       "grid_column": null,
       "grid_gap": null,
       "grid_row": null,
       "grid_template_areas": null,
       "grid_template_columns": null,
       "grid_template_rows": null,
       "height": null,
       "justify_content": null,
       "justify_items": null,
       "left": null,
       "margin": null,
       "max_height": null,
       "max_width": null,
       "min_height": null,
       "min_width": null,
       "object_fit": null,
       "object_position": null,
       "order": null,
       "overflow": null,
       "overflow_x": null,
       "overflow_y": null,
       "padding": null,
       "right": null,
       "top": null,
       "visibility": null,
       "width": null
      }
     },
     "ad62adedb5f34aba9df9b87d8f903e61": {
      "model_module": "@jupyter-widgets/controls",
      "model_module_version": "1.5.0",
      "model_name": "ProgressStyleModel",
      "state": {
       "_model_module": "@jupyter-widgets/controls",
       "_model_module_version": "1.5.0",
       "_model_name": "ProgressStyleModel",
       "_view_count": null,
       "_view_module": "@jupyter-widgets/base",
       "_view_module_version": "1.2.0",
       "_view_name": "StyleView",
       "bar_color": null,
       "description_width": ""
      }
     },
     "b54dc471fea74b49b6b056149a3138c0": {
      "model_module": "@jupyter-widgets/controls",
      "model_module_version": "1.5.0",
      "model_name": "HTMLModel",
      "state": {
       "_dom_classes": [],
       "_model_module": "@jupyter-widgets/controls",
       "_model_module_version": "1.5.0",
       "_model_name": "HTMLModel",
       "_view_count": null,
       "_view_module": "@jupyter-widgets/controls",
       "_view_module_version": "1.5.0",
       "_view_name": "HTMLView",
       "description": "",
       "description_tooltip": null,
       "layout": "IPY_MODEL_560f3bac81c74002a5ba8f73f1bde545",
       "placeholder": "​",
       "style": "IPY_MODEL_65fb286288e841b39fe9c8ce21093eb5",
       "value": " 2/2 [00:01&lt;00:00,  1.27it/s]"
      }
     },
     "b5f10500e4784f5e84a752ca80efe8a6": {
      "model_module": "@jupyter-widgets/controls",
      "model_module_version": "1.5.0",
      "model_name": "ProgressStyleModel",
      "state": {
       "_model_module": "@jupyter-widgets/controls",
       "_model_module_version": "1.5.0",
       "_model_name": "ProgressStyleModel",
       "_view_count": null,
       "_view_module": "@jupyter-widgets/base",
       "_view_module_version": "1.2.0",
       "_view_name": "StyleView",
       "bar_color": null,
       "description_width": ""
      }
     },
     "b99766bcd0c1485a9bbe70f8c4dda637": {
      "model_module": "@jupyter-widgets/controls",
      "model_module_version": "1.5.0",
      "model_name": "HBoxModel",
      "state": {
       "_dom_classes": [],
       "_model_module": "@jupyter-widgets/controls",
       "_model_module_version": "1.5.0",
       "_model_name": "HBoxModel",
       "_view_count": null,
       "_view_module": "@jupyter-widgets/controls",
       "_view_module_version": "1.5.0",
       "_view_name": "HBoxView",
       "box_style": "",
       "children": [
        "IPY_MODEL_8a6fa1346648483d8b948915d5631a2d",
        "IPY_MODEL_c151b22b68934e77a2bc00e9fc1be741",
        "IPY_MODEL_d7174f8e8aa94a8eb8873a21e0884c5b"
       ],
       "layout": "IPY_MODEL_178094f0232640e8a6166ed9ede65f6f"
      }
     },
     "bbde5593779346869ec7dcb0b6700c7a": {
      "model_module": "@jupyter-widgets/controls",
      "model_module_version": "1.5.0",
      "model_name": "HTMLModel",
      "state": {
       "_dom_classes": [],
       "_model_module": "@jupyter-widgets/controls",
       "_model_module_version": "1.5.0",
       "_model_name": "HTMLModel",
       "_view_count": null,
       "_view_module": "@jupyter-widgets/controls",
       "_view_module_version": "1.5.0",
       "_view_name": "HTMLView",
       "description": "",
       "description_tooltip": null,
       "layout": "IPY_MODEL_9cf4e5f37d2d430aa5d0a9ba6671eb20",
       "placeholder": "​",
       "style": "IPY_MODEL_8ab8bfdd874a49689d0ef02b0df71b88",
       "value": "100%"
      }
     },
     "bce635598d214a1ab5ef20423e8d3a99": {
      "model_module": "@jupyter-widgets/controls",
      "model_module_version": "1.5.0",
      "model_name": "FloatProgressModel",
      "state": {
       "_dom_classes": [],
       "_model_module": "@jupyter-widgets/controls",
       "_model_module_version": "1.5.0",
       "_model_name": "FloatProgressModel",
       "_view_count": null,
       "_view_module": "@jupyter-widgets/controls",
       "_view_module_version": "1.5.0",
       "_view_name": "ProgressView",
       "bar_style": "success",
       "description": "",
       "description_tooltip": null,
       "layout": "IPY_MODEL_a9055039708946ddb79cd0293258dc5b",
       "max": 2.0,
       "min": 0.0,
       "orientation": "horizontal",
       "style": "IPY_MODEL_66642510996844f5887788ab1a0c2f8d",
       "value": 2.0
      }
     },
     "c151b22b68934e77a2bc00e9fc1be741": {
      "model_module": "@jupyter-widgets/controls",
      "model_module_version": "1.5.0",
      "model_name": "FloatProgressModel",
      "state": {
       "_dom_classes": [],
       "_model_module": "@jupyter-widgets/controls",
       "_model_module_version": "1.5.0",
       "_model_name": "FloatProgressModel",
       "_view_count": null,
       "_view_module": "@jupyter-widgets/controls",
       "_view_module_version": "1.5.0",
       "_view_name": "ProgressView",
       "bar_style": "success",
       "description": "",
       "description_tooltip": null,
       "layout": "IPY_MODEL_fc1966f76e0d485ca36300a7b42c54e3",
       "max": 2.0,
       "min": 0.0,
       "orientation": "horizontal",
       "style": "IPY_MODEL_ad62adedb5f34aba9df9b87d8f903e61",
       "value": 2.0
      }
     },
     "cfe65b56a8874d0cb519c3f74074ea42": {
      "model_module": "@jupyter-widgets/base",
      "model_module_version": "1.2.0",
      "model_name": "LayoutModel",
      "state": {
       "_model_module": "@jupyter-widgets/base",
       "_model_module_version": "1.2.0",
       "_model_name": "LayoutModel",
       "_view_count": null,
       "_view_module": "@jupyter-widgets/base",
       "_view_module_version": "1.2.0",
       "_view_name": "LayoutView",
       "align_content": null,
       "align_items": null,
       "align_self": null,
       "border": null,
       "bottom": null,
       "display": null,
       "flex": null,
       "flex_flow": null,
       "grid_area": null,
       "grid_auto_columns": null,
       "grid_auto_flow": null,
       "grid_auto_rows": null,
       "grid_column": null,
       "grid_gap": null,
       "grid_row": null,
       "grid_template_areas": null,
       "grid_template_columns": null,
       "grid_template_rows": null,
       "height": null,
       "justify_content": null,
       "justify_items": null,
       "left": null,
       "margin": null,
       "max_height": null,
       "max_width": null,
       "min_height": null,
       "min_width": null,
       "object_fit": null,
       "object_position": null,
       "order": null,
       "overflow": null,
       "overflow_x": null,
       "overflow_y": null,
       "padding": null,
       "right": null,
       "top": null,
       "visibility": null,
       "width": null
      }
     },
     "d7174f8e8aa94a8eb8873a21e0884c5b": {
      "model_module": "@jupyter-widgets/controls",
      "model_module_version": "1.5.0",
      "model_name": "HTMLModel",
      "state": {
       "_dom_classes": [],
       "_model_module": "@jupyter-widgets/controls",
       "_model_module_version": "1.5.0",
       "_model_name": "HTMLModel",
       "_view_count": null,
       "_view_module": "@jupyter-widgets/controls",
       "_view_module_version": "1.5.0",
       "_view_name": "HTMLView",
       "description": "",
       "description_tooltip": null,
       "layout": "IPY_MODEL_592ef40112ff410884c991e58e7db321",
       "placeholder": "​",
       "style": "IPY_MODEL_8340736f6b0641dc97b161ba9740986a",
       "value": " 2/2 [00:01&lt;00:00,  1.36it/s]"
      }
     },
     "d95ab436c29046239fe551b91ba4e704": {
      "model_module": "@jupyter-widgets/base",
      "model_module_version": "1.2.0",
      "model_name": "LayoutModel",
      "state": {
       "_model_module": "@jupyter-widgets/base",
       "_model_module_version": "1.2.0",
       "_model_name": "LayoutModel",
       "_view_count": null,
       "_view_module": "@jupyter-widgets/base",
       "_view_module_version": "1.2.0",
       "_view_name": "LayoutView",
       "align_content": null,
       "align_items": null,
       "align_self": null,
       "border": null,
       "bottom": null,
       "display": null,
       "flex": null,
       "flex_flow": null,
       "grid_area": null,
       "grid_auto_columns": null,
       "grid_auto_flow": null,
       "grid_auto_rows": null,
       "grid_column": null,
       "grid_gap": null,
       "grid_row": null,
       "grid_template_areas": null,
       "grid_template_columns": null,
       "grid_template_rows": null,
       "height": null,
       "justify_content": null,
       "justify_items": null,
       "left": null,
       "margin": null,
       "max_height": null,
       "max_width": null,
       "min_height": null,
       "min_width": null,
       "object_fit": null,
       "object_position": null,
       "order": null,
       "overflow": null,
       "overflow_x": null,
       "overflow_y": null,
       "padding": null,
       "right": null,
       "top": null,
       "visibility": null,
       "width": null
      }
     },
     "df96a28267884b47897a4e36aa8ed1b5": {
      "model_module": "@jupyter-widgets/base",
      "model_module_version": "1.2.0",
      "model_name": "LayoutModel",
      "state": {
       "_model_module": "@jupyter-widgets/base",
       "_model_module_version": "1.2.0",
       "_model_name": "LayoutModel",
       "_view_count": null,
       "_view_module": "@jupyter-widgets/base",
       "_view_module_version": "1.2.0",
       "_view_name": "LayoutView",
       "align_content": null,
       "align_items": null,
       "align_self": null,
       "border": null,
       "bottom": null,
       "display": null,
       "flex": null,
       "flex_flow": null,
       "grid_area": null,
       "grid_auto_columns": null,
       "grid_auto_flow": null,
       "grid_auto_rows": null,
       "grid_column": null,
       "grid_gap": null,
       "grid_row": null,
       "grid_template_areas": null,
       "grid_template_columns": null,
       "grid_template_rows": null,
       "height": null,
       "justify_content": null,
       "justify_items": null,
       "left": null,
       "margin": null,
       "max_height": null,
       "max_width": null,
       "min_height": null,
       "min_width": null,
       "object_fit": null,
       "object_position": null,
       "order": null,
       "overflow": null,
       "overflow_x": null,
       "overflow_y": null,
       "padding": null,
       "right": null,
       "top": null,
       "visibility": null,
       "width": null
      }
     },
     "e761efc09427409dadcbb153580017d6": {
      "model_module": "@jupyter-widgets/controls",
      "model_module_version": "1.5.0",
      "model_name": "HTMLModel",
      "state": {
       "_dom_classes": [],
       "_model_module": "@jupyter-widgets/controls",
       "_model_module_version": "1.5.0",
       "_model_name": "HTMLModel",
       "_view_count": null,
       "_view_module": "@jupyter-widgets/controls",
       "_view_module_version": "1.5.0",
       "_view_name": "HTMLView",
       "description": "",
       "description_tooltip": null,
       "layout": "IPY_MODEL_80c272ea12ca463bb5b7ea4338c31e58",
       "placeholder": "​",
       "style": "IPY_MODEL_3084a117122d4c7996d1688ecc1326cc",
       "value": "100%"
      }
     },
     "fc1966f76e0d485ca36300a7b42c54e3": {
      "model_module": "@jupyter-widgets/base",
      "model_module_version": "1.2.0",
      "model_name": "LayoutModel",
      "state": {
       "_model_module": "@jupyter-widgets/base",
       "_model_module_version": "1.2.0",
       "_model_name": "LayoutModel",
       "_view_count": null,
       "_view_module": "@jupyter-widgets/base",
       "_view_module_version": "1.2.0",
       "_view_name": "LayoutView",
       "align_content": null,
       "align_items": null,
       "align_self": null,
       "border": null,
       "bottom": null,
       "display": null,
       "flex": null,
       "flex_flow": null,
       "grid_area": null,
       "grid_auto_columns": null,
       "grid_auto_flow": null,
       "grid_auto_rows": null,
       "grid_column": null,
       "grid_gap": null,
       "grid_row": null,
       "grid_template_areas": null,
       "grid_template_columns": null,
       "grid_template_rows": null,
       "height": null,
       "justify_content": null,
       "justify_items": null,
       "left": null,
       "margin": null,
       "max_height": null,
       "max_width": null,
       "min_height": null,
       "min_width": null,
       "object_fit": null,
       "object_position": null,
       "order": null,
       "overflow": null,
       "overflow_x": null,
       "overflow_y": null,
       "padding": null,
       "right": null,
       "top": null,
       "visibility": null,
       "width": null
      }
     }
    },
    "version_major": 2,
    "version_minor": 0
   }
  }
 },
 "nbformat": 4,
 "nbformat_minor": 5
}
